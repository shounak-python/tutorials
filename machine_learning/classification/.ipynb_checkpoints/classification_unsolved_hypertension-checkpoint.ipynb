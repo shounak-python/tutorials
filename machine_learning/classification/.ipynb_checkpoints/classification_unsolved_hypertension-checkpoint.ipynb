{
 "cells": [
  {
   "cell_type": "markdown",
   "id": "bf50ab80",
   "metadata": {},
   "source": [
    "Dataset taken from **Kaggle**<br>\n",
    "https://www.kaggle.com/datasets/prosperchuks/health-dataset <br><br>\n",
    "\n",
    "**Dataset info:**\n",
    "\n",
    "*INDEPENDENT VARIABLES:*<br>\n",
    "Categorical: **'sex', 'cp', 'fbs', 'restecg', 'exang', 'slope', 'ca', 'thal'**<br>\n",
    "Numerical: **'age', 'trestbps', 'chol', 'thalach', 'oldpeak'**<br>\n",
    "\n",
    "*DEPENDENT VARIABLE:* **'target'**"
   ]
  },
  {
   "cell_type": "markdown",
   "id": "281ccf2f",
   "metadata": {},
   "source": [
    "# ML Flowchart\n",
    "<img src=\"../ML_steps.png\">"
   ]
  },
  {
   "cell_type": "code",
   "execution_count": 1,
   "id": "14f81bbb",
   "metadata": {},
   "outputs": [],
   "source": [
    "import warnings\n",
    "warnings.filterwarnings('ignore')"
   ]
  },
  {
   "cell_type": "markdown",
   "id": "c3f7ac2e",
   "metadata": {},
   "source": [
    "# Import Libraries"
   ]
  },
  {
   "cell_type": "code",
   "execution_count": 1,
   "id": "e8a35ec9",
   "metadata": {},
   "outputs": [],
   "source": [
    "# To read the data and form dataframe\n",
    "\n",
    "\n",
    "# Train Test Split\n",
    "\n",
    "\n",
    "# Data preprocessing\n",
    "\n",
    "\n",
    "# Train the model\n",
    "\n",
    "\n",
    "\n",
    "\n",
    "# Model evaluation\n"
   ]
  },
  {
   "cell_type": "markdown",
   "id": "371a7215",
   "metadata": {},
   "source": [
    "# Read Data"
   ]
  },
  {
   "cell_type": "code",
   "execution_count": 2,
   "id": "702b6b9b",
   "metadata": {},
   "outputs": [
    {
     "data": {
      "text/html": [
       "<div>\n",
       "<style scoped>\n",
       "    .dataframe tbody tr th:only-of-type {\n",
       "        vertical-align: middle;\n",
       "    }\n",
       "\n",
       "    .dataframe tbody tr th {\n",
       "        vertical-align: top;\n",
       "    }\n",
       "\n",
       "    .dataframe thead th {\n",
       "        text-align: right;\n",
       "    }\n",
       "</style>\n",
       "<table border=\"1\" class=\"dataframe\">\n",
       "  <thead>\n",
       "    <tr style=\"text-align: right;\">\n",
       "      <th></th>\n",
       "      <th>age</th>\n",
       "      <th>sex</th>\n",
       "      <th>cp</th>\n",
       "      <th>trestbps</th>\n",
       "      <th>chol</th>\n",
       "      <th>fbs</th>\n",
       "      <th>restecg</th>\n",
       "      <th>thalach</th>\n",
       "      <th>exang</th>\n",
       "      <th>oldpeak</th>\n",
       "      <th>slope</th>\n",
       "      <th>ca</th>\n",
       "      <th>thal</th>\n",
       "      <th>target</th>\n",
       "    </tr>\n",
       "  </thead>\n",
       "  <tbody>\n",
       "    <tr>\n",
       "      <th>0</th>\n",
       "      <td>57.0</td>\n",
       "      <td>1.0</td>\n",
       "      <td>3</td>\n",
       "      <td>145</td>\n",
       "      <td>233</td>\n",
       "      <td>1</td>\n",
       "      <td>0</td>\n",
       "      <td>150</td>\n",
       "      <td>0</td>\n",
       "      <td>2.3</td>\n",
       "      <td>0</td>\n",
       "      <td>0</td>\n",
       "      <td>1</td>\n",
       "      <td>1</td>\n",
       "    </tr>\n",
       "    <tr>\n",
       "      <th>1</th>\n",
       "      <td>64.0</td>\n",
       "      <td>0.0</td>\n",
       "      <td>2</td>\n",
       "      <td>130</td>\n",
       "      <td>250</td>\n",
       "      <td>0</td>\n",
       "      <td>1</td>\n",
       "      <td>187</td>\n",
       "      <td>0</td>\n",
       "      <td>3.5</td>\n",
       "      <td>0</td>\n",
       "      <td>0</td>\n",
       "      <td>2</td>\n",
       "      <td>1</td>\n",
       "    </tr>\n",
       "  </tbody>\n",
       "</table>\n",
       "</div>"
      ],
      "text/plain": [
       "    age  sex  cp  trestbps  chol  fbs  restecg  thalach  exang  oldpeak  \\\n",
       "0  57.0  1.0   3       145   233    1        0      150      0      2.3   \n",
       "1  64.0  0.0   2       130   250    0        1      187      0      3.5   \n",
       "\n",
       "   slope  ca  thal  target  \n",
       "0      0   0     1       1  \n",
       "1      0   0     2       1  "
      ]
     },
     "execution_count": 2,
     "metadata": {},
     "output_type": "execute_result"
    }
   ],
   "source": [
    "# Read Data from file path '../database/classification_hypertension_data.csv'\n",
    "\n",
    "\n",
    "# See how the data appears\n"
   ]
  },
  {
   "cell_type": "code",
   "execution_count": 3,
   "id": "8190c537",
   "metadata": {},
   "outputs": [
    {
     "name": "stdout",
     "output_type": "stream",
     "text": [
      "(26083, 14)\n"
     ]
    }
   ],
   "source": [
    "# See the data shape\n"
   ]
  },
  {
   "cell_type": "code",
   "execution_count": 4,
   "id": "34866319",
   "metadata": {},
   "outputs": [],
   "source": [
    "categorical_columns = []\n",
    "numerical_columns = []"
   ]
  },
  {
   "cell_type": "markdown",
   "id": "31f78b01",
   "metadata": {},
   "source": [
    "# Clean Data\n",
    "---\n",
    "### Check for missing & duplicate values"
   ]
  },
  {
   "cell_type": "code",
   "execution_count": 5,
   "id": "86616966",
   "metadata": {},
   "outputs": [
    {
     "name": "stdout",
     "output_type": "stream",
     "text": [
      "age          0\n",
      "sex         25\n",
      "cp           0\n",
      "trestbps     0\n",
      "chol         0\n",
      "fbs          0\n",
      "restecg      0\n",
      "thalach      0\n",
      "exang        0\n",
      "oldpeak      0\n",
      "slope        0\n",
      "ca           0\n",
      "thal         0\n",
      "target       0\n",
      "dtype: int64\n"
     ]
    }
   ],
   "source": [
    "# check for missing values\n",
    "\n",
    "\n",
    "# remove duplicates\n"
   ]
  },
  {
   "cell_type": "markdown",
   "id": "323c64ca",
   "metadata": {},
   "source": [
    "#### Should we drop the observations with missing values or impute the mission values ?"
   ]
  },
  {
   "cell_type": "code",
   "execution_count": 6,
   "id": "a63575ae",
   "metadata": {},
   "outputs": [],
   "source": [
    "# Decision on missing values: "
   ]
  },
  {
   "cell_type": "markdown",
   "id": "8c525457",
   "metadata": {},
   "source": [
    "---\n",
    "### Check for outliers"
   ]
  },
  {
   "cell_type": "code",
   "execution_count": 8,
   "id": "cb7f4acc",
   "metadata": {},
   "outputs": [
    {
     "data": {
      "text/plain": [
       "<AxesSubplot:>"
      ]
     },
     "execution_count": 8,
     "metadata": {},
     "output_type": "execute_result"
    },
    {
     "data": {
      "image/png": "[encoded data removed]",
      "text/plain": [
       "<Figure size 1080x288 with 1 Axes>"
      ]
     },
     "metadata": {
      "needs_background": "light"
     },
     "output_type": "display_data"
    }
   ],
   "source": []
  },
  {
   "cell_type": "markdown",
   "id": "d4b282a4",
   "metadata": {},
   "source": [
    "We see that outliers are present in 4 columns 'trestbps', 'chol', 'thalach', 'oldpeak'"
   ]
  },
  {
   "cell_type": "code",
   "execution_count": 9,
   "id": "8649b48e",
   "metadata": {},
   "outputs": [],
   "source": [
    "# Form list of columns where we see outliers\n",
    "outlier_cols = []\n",
    "\n",
    "outlier_df = raw_df[outlier_cols].copy()"
   ]
  },
  {
   "cell_type": "code",
   "execution_count": 10,
   "id": "16f0b0f9",
   "metadata": {},
   "outputs": [],
   "source": [
    "# let us create a function where we replace the outlier values with min max values for their reapective feature\n",
    "\n",
    "# Form permissible min max values based on Inter Quartile Range (IQR)\n",
    "\n",
    "\n",
    "\n",
    "def process_outlier(value: float, min_val: float, max_val: float) -> float:\n",
    "    \"\"\"\n",
    "    Info: returns the permissible value based on min max values.\n",
    "    \n",
    "    Arguments:\n",
    "        value (float): input value to check\n",
    "        min_val (float): minimum permissible value\n",
    "        max_val (float): maximum permissible value\n",
    "    \n",
    "    Returns:\n",
    "        float: value if the value lies between minimum and maximum value else minimum or maximum value.\n",
    "    \"\"\"\n"
   ]
  },
  {
   "cell_type": "code",
   "execution_count": 11,
   "id": "1c1dfba2",
   "metadata": {},
   "outputs": [],
   "source": [
    "# Loop over the columns to process their outliers\n"
   ]
  },
  {
   "cell_type": "markdown",
   "id": "040a26f7",
   "metadata": {},
   "source": [
    "### Check for outliers"
   ]
  },
  {
   "cell_type": "code",
   "execution_count": 13,
   "id": "38d55b42",
   "metadata": {},
   "outputs": [
    {
     "data": {
      "text/plain": [
       "<AxesSubplot:>"
      ]
     },
     "execution_count": 13,
     "metadata": {},
     "output_type": "execute_result"
    },
    {
     "data": {
      "image/png": "[encoded data removed]",
      "text/plain": [
       "<Figure size 1080x288 with 1 Axes>"
      ]
     },
     "metadata": {
      "needs_background": "light"
     },
     "output_type": "display_data"
    }
   ],
   "source": []
  },
  {
   "cell_type": "markdown",
   "id": "d9cbc2d7",
   "metadata": {},
   "source": [
    "---\n",
    "### Check correlations"
   ]
  },
  {
   "cell_type": "code",
   "execution_count": 14,
   "id": "c66c92d0",
   "metadata": {},
   "outputs": [
    {
     "data": {
      "text/html": [
       "<div>\n",
       "<style scoped>\n",
       "    .dataframe tbody tr th:only-of-type {\n",
       "        vertical-align: middle;\n",
       "    }\n",
       "\n",
       "    .dataframe tbody tr th {\n",
       "        vertical-align: top;\n",
       "    }\n",
       "\n",
       "    .dataframe thead th {\n",
       "        text-align: right;\n",
       "    }\n",
       "</style>\n",
       "<table border=\"1\" class=\"dataframe\">\n",
       "  <thead>\n",
       "    <tr style=\"text-align: right;\">\n",
       "      <th></th>\n",
       "      <th>age</th>\n",
       "      <th>sex</th>\n",
       "      <th>cp</th>\n",
       "      <th>trestbps</th>\n",
       "      <th>chol</th>\n",
       "      <th>fbs</th>\n",
       "      <th>restecg</th>\n",
       "      <th>thalach</th>\n",
       "      <th>exang</th>\n",
       "      <th>oldpeak</th>\n",
       "      <th>slope</th>\n",
       "      <th>ca</th>\n",
       "      <th>thal</th>\n",
       "      <th>target</th>\n",
       "    </tr>\n",
       "  </thead>\n",
       "  <tbody>\n",
       "    <tr>\n",
       "      <th>age</th>\n",
       "      <td>1.000000</td>\n",
       "      <td>-9.874843e-02</td>\n",
       "      <td>6.423732e-04</td>\n",
       "      <td>2.404178e-02</td>\n",
       "      <td>1.522131e-02</td>\n",
       "      <td>NaN</td>\n",
       "      <td>-7.222071e-03</td>\n",
       "      <td>-5.050231e-02</td>\n",
       "      <td>1.205085e-02</td>\n",
       "      <td>9.969544e-03</td>\n",
       "      <td>-9.294172e-03</td>\n",
       "      <td>4.902799e-02</td>\n",
       "      <td>7.991357e-03</td>\n",
       "      <td>-2.316109e-02</td>\n",
       "    </tr>\n",
       "    <tr>\n",
       "      <th>sex</th>\n",
       "      <td>-0.098748</td>\n",
       "      <td>1.000000e+00</td>\n",
       "      <td>-2.727016e-16</td>\n",
       "      <td>-5.097625e-15</td>\n",
       "      <td>-6.737121e-16</td>\n",
       "      <td>NaN</td>\n",
       "      <td>3.157680e-17</td>\n",
       "      <td>3.963282e-15</td>\n",
       "      <td>4.041910e-18</td>\n",
       "      <td>5.590717e-16</td>\n",
       "      <td>-3.324648e-16</td>\n",
       "      <td>2.195387e-17</td>\n",
       "      <td>3.715688e-18</td>\n",
       "      <td>4.951044e-16</td>\n",
       "    </tr>\n",
       "    <tr>\n",
       "      <th>cp</th>\n",
       "      <td>0.000642</td>\n",
       "      <td>-2.727016e-16</td>\n",
       "      <td>1.000000e+00</td>\n",
       "      <td>4.760193e-02</td>\n",
       "      <td>-8.642138e-02</td>\n",
       "      <td>NaN</td>\n",
       "      <td>4.701292e-02</td>\n",
       "      <td>2.889383e-01</td>\n",
       "      <td>-3.924467e-01</td>\n",
       "      <td>-1.479960e-01</td>\n",
       "      <td>1.213752e-01</td>\n",
       "      <td>-2.011471e-01</td>\n",
       "      <td>-1.680074e-01</td>\n",
       "      <td>4.370111e-01</td>\n",
       "    </tr>\n",
       "    <tr>\n",
       "      <th>trestbps</th>\n",
       "      <td>0.024042</td>\n",
       "      <td>-5.097625e-15</td>\n",
       "      <td>4.760193e-02</td>\n",
       "      <td>1.000000e+00</td>\n",
       "      <td>1.422886e-01</td>\n",
       "      <td>NaN</td>\n",
       "      <td>-1.165763e-01</td>\n",
       "      <td>-5.746576e-02</td>\n",
       "      <td>6.245135e-02</td>\n",
       "      <td>1.913249e-01</td>\n",
       "      <td>-1.245611e-01</td>\n",
       "      <td>1.023758e-01</td>\n",
       "      <td>4.947654e-02</td>\n",
       "      <td>-1.420084e-01</td>\n",
       "    </tr>\n",
       "    <tr>\n",
       "      <th>chol</th>\n",
       "      <td>0.015221</td>\n",
       "      <td>-6.737121e-16</td>\n",
       "      <td>-8.642138e-02</td>\n",
       "      <td>1.422886e-01</td>\n",
       "      <td>1.000000e+00</td>\n",
       "      <td>NaN</td>\n",
       "      <td>-1.418721e-01</td>\n",
       "      <td>-1.611744e-02</td>\n",
       "      <td>8.029660e-02</td>\n",
       "      <td>5.077641e-02</td>\n",
       "      <td>1.740363e-02</td>\n",
       "      <td>9.672408e-02</td>\n",
       "      <td>7.529182e-02</td>\n",
       "      <td>-9.997542e-02</td>\n",
       "    </tr>\n",
       "    <tr>\n",
       "      <th>fbs</th>\n",
       "      <td>NaN</td>\n",
       "      <td>NaN</td>\n",
       "      <td>NaN</td>\n",
       "      <td>NaN</td>\n",
       "      <td>NaN</td>\n",
       "      <td>NaN</td>\n",
       "      <td>NaN</td>\n",
       "      <td>NaN</td>\n",
       "      <td>NaN</td>\n",
       "      <td>NaN</td>\n",
       "      <td>NaN</td>\n",
       "      <td>NaN</td>\n",
       "      <td>NaN</td>\n",
       "      <td>NaN</td>\n",
       "    </tr>\n",
       "    <tr>\n",
       "      <th>restecg</th>\n",
       "      <td>-0.007222</td>\n",
       "      <td>3.157680e-17</td>\n",
       "      <td>4.701292e-02</td>\n",
       "      <td>-1.165763e-01</td>\n",
       "      <td>-1.418721e-01</td>\n",
       "      <td>NaN</td>\n",
       "      <td>1.000000e+00</td>\n",
       "      <td>3.596463e-02</td>\n",
       "      <td>-6.862642e-02</td>\n",
       "      <td>-6.023246e-02</td>\n",
       "      <td>8.532581e-02</td>\n",
       "      <td>-8.765704e-02</td>\n",
       "      <td>-9.612092e-03</td>\n",
       "      <td>1.371512e-01</td>\n",
       "    </tr>\n",
       "    <tr>\n",
       "      <th>thalach</th>\n",
       "      <td>-0.050502</td>\n",
       "      <td>3.963282e-15</td>\n",
       "      <td>2.889383e-01</td>\n",
       "      <td>-5.746576e-02</td>\n",
       "      <td>-1.611744e-02</td>\n",
       "      <td>NaN</td>\n",
       "      <td>3.596463e-02</td>\n",
       "      <td>1.000000e+00</td>\n",
       "      <td>-3.734756e-01</td>\n",
       "      <td>-3.519064e-01</td>\n",
       "      <td>3.933771e-01</td>\n",
       "      <td>-2.283126e-01</td>\n",
       "      <td>-1.123215e-01</td>\n",
       "      <td>4.203153e-01</td>\n",
       "    </tr>\n",
       "    <tr>\n",
       "      <th>exang</th>\n",
       "      <td>0.012051</td>\n",
       "      <td>4.041910e-18</td>\n",
       "      <td>-3.924467e-01</td>\n",
       "      <td>6.245135e-02</td>\n",
       "      <td>8.029660e-02</td>\n",
       "      <td>NaN</td>\n",
       "      <td>-6.862642e-02</td>\n",
       "      <td>-3.734756e-01</td>\n",
       "      <td>1.000000e+00</td>\n",
       "      <td>3.013475e-01</td>\n",
       "      <td>-2.583466e-01</td>\n",
       "      <td>1.271498e-01</td>\n",
       "      <td>2.218600e-01</td>\n",
       "      <td>-4.392081e-01</td>\n",
       "    </tr>\n",
       "    <tr>\n",
       "      <th>oldpeak</th>\n",
       "      <td>0.009970</td>\n",
       "      <td>5.590717e-16</td>\n",
       "      <td>-1.479960e-01</td>\n",
       "      <td>1.913249e-01</td>\n",
       "      <td>5.077641e-02</td>\n",
       "      <td>NaN</td>\n",
       "      <td>-6.023246e-02</td>\n",
       "      <td>-3.519064e-01</td>\n",
       "      <td>3.013475e-01</td>\n",
       "      <td>1.000000e+00</td>\n",
       "      <td>-5.782988e-01</td>\n",
       "      <td>2.276249e-01</td>\n",
       "      <td>2.243560e-01</td>\n",
       "      <td>-4.448345e-01</td>\n",
       "    </tr>\n",
       "    <tr>\n",
       "      <th>slope</th>\n",
       "      <td>-0.009294</td>\n",
       "      <td>-3.324648e-16</td>\n",
       "      <td>1.213752e-01</td>\n",
       "      <td>-1.245611e-01</td>\n",
       "      <td>1.740363e-02</td>\n",
       "      <td>NaN</td>\n",
       "      <td>8.532581e-02</td>\n",
       "      <td>3.933771e-01</td>\n",
       "      <td>-2.583466e-01</td>\n",
       "      <td>-5.782988e-01</td>\n",
       "      <td>1.000000e+00</td>\n",
       "      <td>-9.909767e-02</td>\n",
       "      <td>-1.180699e-01</td>\n",
       "      <td>3.512253e-01</td>\n",
       "    </tr>\n",
       "    <tr>\n",
       "      <th>ca</th>\n",
       "      <td>0.049028</td>\n",
       "      <td>2.195387e-17</td>\n",
       "      <td>-2.011471e-01</td>\n",
       "      <td>1.023758e-01</td>\n",
       "      <td>9.672408e-02</td>\n",
       "      <td>NaN</td>\n",
       "      <td>-8.765704e-02</td>\n",
       "      <td>-2.283126e-01</td>\n",
       "      <td>1.271498e-01</td>\n",
       "      <td>2.276249e-01</td>\n",
       "      <td>-9.909767e-02</td>\n",
       "      <td>1.000000e+00</td>\n",
       "      <td>1.645441e-01</td>\n",
       "      <td>-4.051702e-01</td>\n",
       "    </tr>\n",
       "    <tr>\n",
       "      <th>thal</th>\n",
       "      <td>0.007991</td>\n",
       "      <td>3.715688e-18</td>\n",
       "      <td>-1.680074e-01</td>\n",
       "      <td>4.947654e-02</td>\n",
       "      <td>7.529182e-02</td>\n",
       "      <td>NaN</td>\n",
       "      <td>-9.612092e-03</td>\n",
       "      <td>-1.123215e-01</td>\n",
       "      <td>2.218600e-01</td>\n",
       "      <td>2.243560e-01</td>\n",
       "      <td>-1.180699e-01</td>\n",
       "      <td>1.645441e-01</td>\n",
       "      <td>1.000000e+00</td>\n",
       "      <td>-3.587463e-01</td>\n",
       "    </tr>\n",
       "    <tr>\n",
       "      <th>target</th>\n",
       "      <td>-0.023161</td>\n",
       "      <td>4.951044e-16</td>\n",
       "      <td>4.370111e-01</td>\n",
       "      <td>-1.420084e-01</td>\n",
       "      <td>-9.997542e-02</td>\n",
       "      <td>NaN</td>\n",
       "      <td>1.371512e-01</td>\n",
       "      <td>4.203153e-01</td>\n",
       "      <td>-4.392081e-01</td>\n",
       "      <td>-4.448345e-01</td>\n",
       "      <td>3.512253e-01</td>\n",
       "      <td>-4.051702e-01</td>\n",
       "      <td>-3.587463e-01</td>\n",
       "      <td>1.000000e+00</td>\n",
       "    </tr>\n",
       "  </tbody>\n",
       "</table>\n",
       "</div>"
      ],
      "text/plain": [
       "               age           sex            cp      trestbps          chol  \\\n",
       "age       1.000000 -9.874843e-02  6.423732e-04  2.404178e-02  1.522131e-02   \n",
       "sex      -0.098748  1.000000e+00 -2.727016e-16 -5.097625e-15 -6.737121e-16   \n",
       "cp        0.000642 -2.727016e-16  1.000000e+00  4.760193e-02 -8.642138e-02   \n",
       "trestbps  0.024042 -5.097625e-15  4.760193e-02  1.000000e+00  1.422886e-01   \n",
       "chol      0.015221 -6.737121e-16 -8.642138e-02  1.422886e-01  1.000000e+00   \n",
       "fbs            NaN           NaN           NaN           NaN           NaN   \n",
       "restecg  -0.007222  3.157680e-17  4.701292e-02 -1.165763e-01 -1.418721e-01   \n",
       "thalach  -0.050502  3.963282e-15  2.889383e-01 -5.746576e-02 -1.611744e-02   \n",
       "exang     0.012051  4.041910e-18 -3.924467e-01  6.245135e-02  8.029660e-02   \n",
       "oldpeak   0.009970  5.590717e-16 -1.479960e-01  1.913249e-01  5.077641e-02   \n",
       "slope    -0.009294 -3.324648e-16  1.213752e-01 -1.245611e-01  1.740363e-02   \n",
       "ca        0.049028  2.195387e-17 -2.011471e-01  1.023758e-01  9.672408e-02   \n",
       "thal      0.007991  3.715688e-18 -1.680074e-01  4.947654e-02  7.529182e-02   \n",
       "target   -0.023161  4.951044e-16  4.370111e-01 -1.420084e-01 -9.997542e-02   \n",
       "\n",
       "          fbs       restecg       thalach         exang       oldpeak  \\\n",
       "age       NaN -7.222071e-03 -5.050231e-02  1.205085e-02  9.969544e-03   \n",
       "sex       NaN  3.157680e-17  3.963282e-15  4.041910e-18  5.590717e-16   \n",
       "cp        NaN  4.701292e-02  2.889383e-01 -3.924467e-01 -1.479960e-01   \n",
       "trestbps  NaN -1.165763e-01 -5.746576e-02  6.245135e-02  1.913249e-01   \n",
       "chol      NaN -1.418721e-01 -1.611744e-02  8.029660e-02  5.077641e-02   \n",
       "fbs       NaN           NaN           NaN           NaN           NaN   \n",
       "restecg   NaN  1.000000e+00  3.596463e-02 -6.862642e-02 -6.023246e-02   \n",
       "thalach   NaN  3.596463e-02  1.000000e+00 -3.734756e-01 -3.519064e-01   \n",
       "exang     NaN -6.862642e-02 -3.734756e-01  1.000000e+00  3.013475e-01   \n",
       "oldpeak   NaN -6.023246e-02 -3.519064e-01  3.013475e-01  1.000000e+00   \n",
       "slope     NaN  8.532581e-02  3.933771e-01 -2.583466e-01 -5.782988e-01   \n",
       "ca        NaN -8.765704e-02 -2.283126e-01  1.271498e-01  2.276249e-01   \n",
       "thal      NaN -9.612092e-03 -1.123215e-01  2.218600e-01  2.243560e-01   \n",
       "target    NaN  1.371512e-01  4.203153e-01 -4.392081e-01 -4.448345e-01   \n",
       "\n",
       "                 slope            ca          thal        target  \n",
       "age      -9.294172e-03  4.902799e-02  7.991357e-03 -2.316109e-02  \n",
       "sex      -3.324648e-16  2.195387e-17  3.715688e-18  4.951044e-16  \n",
       "cp        1.213752e-01 -2.011471e-01 -1.680074e-01  4.370111e-01  \n",
       "trestbps -1.245611e-01  1.023758e-01  4.947654e-02 -1.420084e-01  \n",
       "chol      1.740363e-02  9.672408e-02  7.529182e-02 -9.997542e-02  \n",
       "fbs                NaN           NaN           NaN           NaN  \n",
       "restecg   8.532581e-02 -8.765704e-02 -9.612092e-03  1.371512e-01  \n",
       "thalach   3.933771e-01 -2.283126e-01 -1.123215e-01  4.203153e-01  \n",
       "exang    -2.583466e-01  1.271498e-01  2.218600e-01 -4.392081e-01  \n",
       "oldpeak  -5.782988e-01  2.276249e-01  2.243560e-01 -4.448345e-01  \n",
       "slope     1.000000e+00 -9.909767e-02 -1.180699e-01  3.512253e-01  \n",
       "ca       -9.909767e-02  1.000000e+00  1.645441e-01 -4.051702e-01  \n",
       "thal     -1.180699e-01  1.645441e-01  1.000000e+00 -3.587463e-01  \n",
       "target    3.512253e-01 -4.051702e-01 -3.587463e-01  1.000000e+00  "
      ]
     },
     "execution_count": 14,
     "metadata": {},
     "output_type": "execute_result"
    }
   ],
   "source": [
    "# Correlations\n"
   ]
  },
  {
   "cell_type": "markdown",
   "id": "7fdfdce0",
   "metadata": {},
   "source": [
    "# Form *features* and *target*"
   ]
  },
  {
   "cell_type": "code",
   "execution_count": 15,
   "id": "5ff79c48",
   "metadata": {},
   "outputs": [],
   "source": [
    "features = \n",
    "target = "
   ]
  },
  {
   "cell_type": "markdown",
   "id": "2914656f",
   "metadata": {},
   "source": [
    "# Train Test Split"
   ]
  },
  {
   "cell_type": "code",
   "execution_count": 16,
   "id": "f8d8f816",
   "metadata": {},
   "outputs": [
    {
     "name": "stdout",
     "output_type": "stream",
     "text": [
      "(20846, 13) (5212, 13) (20846,) (5212,)\n"
     ]
    }
   ],
   "source": [
    "# train test split\n",
    "\n",
    "# See the shape of train and test data\n"
   ]
  },
  {
   "cell_type": "markdown",
   "id": "2c13cdc7",
   "metadata": {},
   "source": [
    "# Normalize Data"
   ]
  },
  {
   "cell_type": "code",
   "execution_count": 18,
   "id": "2aaaf6b2",
   "metadata": {},
   "outputs": [],
   "source": [
    "# normalize data\n"
   ]
  },
  {
   "cell_type": "markdown",
   "id": "6b620625",
   "metadata": {},
   "source": [
    "# Train Model"
   ]
  },
  {
   "cell_type": "code",
   "execution_count": 19,
   "id": "29e82229",
   "metadata": {},
   "outputs": [],
   "source": [
    "# create model\n",
    "lr_model = \n",
    "rf_model = \n",
    "sv_model = "
   ]
  },
  {
   "cell_type": "code",
   "execution_count": 21,
   "id": "80845845",
   "metadata": {},
   "outputs": [
    {
     "data": {
      "text/html": [
       "<style>#sk-container-id-1 {color: black;background-color: white;}#sk-container-id-1 pre{padding: 0;}#sk-container-id-1 div.sk-toggleable {background-color: white;}#sk-container-id-1 label.sk-toggleable__label {cursor: pointer;display: block;width: 100%;margin-bottom: 0;padding: 0.3em;box-sizing: border-box;text-align: center;}#sk-container-id-1 label.sk-toggleable__label-arrow:before {content: \"▸\";float: left;margin-right: 0.25em;color: #696969;}#sk-container-id-1 label.sk-toggleable__label-arrow:hover:before {color: black;}#sk-container-id-1 div.sk-estimator:hover label.sk-toggleable__label-arrow:before {color: black;}#sk-container-id-1 div.sk-toggleable__content {max-height: 0;max-width: 0;overflow: hidden;text-align: left;background-color: #f0f8ff;}#sk-container-id-1 div.sk-toggleable__content pre {margin: 0.2em;color: black;border-radius: 0.25em;background-color: #f0f8ff;}#sk-container-id-1 input.sk-toggleable__control:checked~div.sk-toggleable__content {max-height: 200px;max-width: 100%;overflow: auto;}#sk-container-id-1 input.sk-toggleable__control:checked~label.sk-toggleable__label-arrow:before {content: \"▾\";}#sk-container-id-1 div.sk-estimator input.sk-toggleable__control:checked~label.sk-toggleable__label {background-color: #d4ebff;}#sk-container-id-1 div.sk-label input.sk-toggleable__control:checked~label.sk-toggleable__label {background-color: #d4ebff;}#sk-container-id-1 input.sk-hidden--visually {border: 0;clip: rect(1px 1px 1px 1px);clip: rect(1px, 1px, 1px, 1px);height: 1px;margin: -1px;overflow: hidden;padding: 0;position: absolute;width: 1px;}#sk-container-id-1 div.sk-estimator {font-family: monospace;background-color: #f0f8ff;border: 1px dotted black;border-radius: 0.25em;box-sizing: border-box;margin-bottom: 0.5em;}#sk-container-id-1 div.sk-estimator:hover {background-color: #d4ebff;}#sk-container-id-1 div.sk-parallel-item::after {content: \"\";width: 100%;border-bottom: 1px solid gray;flex-grow: 1;}#sk-container-id-1 div.sk-label:hover label.sk-toggleable__label {background-color: #d4ebff;}#sk-container-id-1 div.sk-serial::before {content: \"\";position: absolute;border-left: 1px solid gray;box-sizing: border-box;top: 0;bottom: 0;left: 50%;z-index: 0;}#sk-container-id-1 div.sk-serial {display: flex;flex-direction: column;align-items: center;background-color: white;padding-right: 0.2em;padding-left: 0.2em;position: relative;}#sk-container-id-1 div.sk-item {position: relative;z-index: 1;}#sk-container-id-1 div.sk-parallel {display: flex;align-items: stretch;justify-content: center;background-color: white;position: relative;}#sk-container-id-1 div.sk-item::before, #sk-container-id-1 div.sk-parallel-item::before {content: \"\";position: absolute;border-left: 1px solid gray;box-sizing: border-box;top: 0;bottom: 0;left: 50%;z-index: -1;}#sk-container-id-1 div.sk-parallel-item {display: flex;flex-direction: column;z-index: 1;position: relative;background-color: white;}#sk-container-id-1 div.sk-parallel-item:first-child::after {align-self: flex-end;width: 50%;}#sk-container-id-1 div.sk-parallel-item:last-child::after {align-self: flex-start;width: 50%;}#sk-container-id-1 div.sk-parallel-item:only-child::after {width: 0;}#sk-container-id-1 div.sk-dashed-wrapped {border: 1px dashed gray;margin: 0 0.4em 0.5em 0.4em;box-sizing: border-box;padding-bottom: 0.4em;background-color: white;}#sk-container-id-1 div.sk-label label {font-family: monospace;font-weight: bold;display: inline-block;line-height: 1.2em;}#sk-container-id-1 div.sk-label-container {text-align: center;}#sk-container-id-1 div.sk-container {/* jupyter's `normalize.less` sets `[hidden] { display: none; }` but bootstrap.min.css set `[hidden] { display: none !important; }` so we also need the `!important` here to be able to override the default hidden behavior on the sphinx rendered scikit-learn.org. See: https://github.com/scikit-learn/scikit-learn/issues/21755 */display: inline-block !important;position: relative;}#sk-container-id-1 div.sk-text-repr-fallback {display: none;}</style><div id=\"sk-container-id-1\" class=\"sk-top-container\"><div class=\"sk-text-repr-fallback\"><pre>SVC()</pre><b>In a Jupyter environment, please rerun this cell to show the HTML representation or trust the notebook. <br />On GitHub, the HTML representation is unable to render, please try loading this page with nbviewer.org.</b></div><div class=\"sk-container\" hidden><div class=\"sk-item\"><div class=\"sk-estimator sk-toggleable\"><input class=\"sk-toggleable__control sk-hidden--visually\" id=\"sk-estimator-id-1\" type=\"checkbox\" checked><label for=\"sk-estimator-id-1\" class=\"sk-toggleable__label sk-toggleable__label-arrow\">SVC</label><div class=\"sk-toggleable__content\"><pre>SVC()</pre></div></div></div></div></div>"
      ],
      "text/plain": [
       "SVC()"
      ]
     },
     "execution_count": 21,
     "metadata": {},
     "output_type": "execute_result"
    }
   ],
   "source": [
    "# Fit and train the model\n",
    "\n",
    "\n"
   ]
  },
  {
   "cell_type": "markdown",
   "id": "9a6402b5",
   "metadata": {},
   "source": [
    "# Model Evaluation"
   ]
  },
  {
   "cell_type": "code",
   "execution_count": 23,
   "id": "0b952db2",
   "metadata": {},
   "outputs": [],
   "source": [
    "y_pred_lr = \n",
    "y_pred_rf = \n",
    "y_pred_sv = "
   ]
  },
  {
   "cell_type": "code",
   "execution_count": 24,
   "id": "8a91d659",
   "metadata": {},
   "outputs": [
    {
     "name": "stdout",
     "output_type": "stream",
     "text": [
      "Logistic Regression:\n",
      "\n",
      "Classification Report:              precision    recall  f1-score   support\n",
      "\n",
      "           0       0.50      0.76      0.60      1513\n",
      "           1       0.88      0.69      0.77      3699\n",
      "\n",
      "    accuracy                           0.71      5212\n",
      "   macro avg       0.69      0.72      0.69      5212\n",
      "weighted avg       0.77      0.71      0.72      5212\n",
      "\n",
      "\n",
      "\n",
      "Random Forest:\n",
      "\n",
      "Classification Report:              precision    recall  f1-score   support\n",
      "\n",
      "           0       0.86      0.87      0.86      2293\n",
      "           1       0.89      0.89      0.89      2919\n",
      "\n",
      "    accuracy                           0.88      5212\n",
      "   macro avg       0.88      0.88      0.88      5212\n",
      "weighted avg       0.88      0.88      0.88      5212\n",
      "\n",
      "\n",
      "\n",
      "Support Vector:\n",
      "\n",
      "Classification Report:              precision    recall  f1-score   support\n",
      "\n",
      "           0       1.00      0.44      0.62      5212\n",
      "           1       0.00      0.00      0.00         0\n",
      "\n",
      "    accuracy                           0.44      5212\n",
      "   macro avg       0.50      0.22      0.31      5212\n",
      "weighted avg       1.00      0.44      0.62      5212\n",
      "\n",
      "\n",
      "\n"
     ]
    },
    {
     "name": "stderr",
     "output_type": "stream",
     "text": [
      "C:\\Users\\shodeshp\\AppData\\Roaming\\Python\\Python39\\site-packages\\sklearn\\metrics\\_classification.py:1334: UndefinedMetricWarning: Recall and F-score are ill-defined and being set to 0.0 in labels with no true samples. Use `zero_division` parameter to control this behavior.\n",
      "  _warn_prf(average, modifier, msg_start, len(result))\n",
      "C:\\Users\\shodeshp\\AppData\\Roaming\\Python\\Python39\\site-packages\\sklearn\\metrics\\_classification.py:1334: UndefinedMetricWarning: Recall and F-score are ill-defined and being set to 0.0 in labels with no true samples. Use `zero_division` parameter to control this behavior.\n",
      "  _warn_prf(average, modifier, msg_start, len(result))\n",
      "C:\\Users\\shodeshp\\AppData\\Roaming\\Python\\Python39\\site-packages\\sklearn\\metrics\\_classification.py:1334: UndefinedMetricWarning: Recall and F-score are ill-defined and being set to 0.0 in labels with no true samples. Use `zero_division` parameter to control this behavior.\n",
      "  _warn_prf(average, modifier, msg_start, len(result))\n"
     ]
    }
   ],
   "source": [
    "print(\"Logistic Regression:\")\n",
    "\n",
    "\n",
    "print(\"Random Forest:\")\n",
    "\n",
    "\n",
    "print(\"Support Vector:\")\n",
    "\n"
   ]
  },
  {
   "cell_type": "markdown",
   "id": "c9083bdb",
   "metadata": {},
   "source": [
    "# Author\n",
    "Shounak Deshpande<br>\n",
    "shounak.python@gmail.com"
   ]
  }
 ],
 "metadata": {
  "kernelspec": {
   "display_name": "Python 3 (ipykernel)",
   "language": "python",
   "name": "python3"
  },
  "language_info": {
   "codemirror_mode": {
    "name": "ipython",
    "version": 3
   },
   "file_extension": ".py",
   "mimetype": "text/x-python",
   "name": "python",
   "nbconvert_exporter": "python",
   "pygments_lexer": "ipython3",
   "version": "3.9.12"
  }
 },
 "nbformat": 4,
 "nbformat_minor": 5
}
