{
 "cells": [
  {
   "cell_type": "markdown",
   "id": "fdac4158",
   "metadata": {},
   "source": [
    "Kaggle Link: https://www.kaggle.com/datasets/dev0914sharma/customer-clustering?select=segmentation+data.csv"
   ]
  },
  {
   "cell_type": "markdown",
   "id": "ffdf7c65",
   "metadata": {},
   "source": [
    "# Build model for:\n",
    "    1. Kmeans\n",
    "    2. DBScan\n",
    "    3. OPTICS\n",
    "    4. AffinityPropagation"
   ]
  },
  {
   "cell_type": "code",
   "execution_count": 1,
   "id": "14b6eb8d",
   "metadata": {},
   "outputs": [],
   "source": [
    "# libraries\n",
    "import pandas as pd\n",
    "import numpy as np\n",
    "\n",
    "from sklearn.preprocessing import StandardScaler, normalize\n",
    "\n",
    "from sklearn.cluster import KMeans, AffinityPropagation, OPTICS, cluster_optics_dbscan, DBSCAN\n",
    "from sklearn.metrics import silhouette_score"
   ]
  },
  {
   "cell_type": "code",
   "execution_count": 2,
   "id": "94ae2b66",
   "metadata": {},
   "outputs": [],
   "source": [
    "raw_df = pd.read_csv(\"segmentation data.csv\")"
   ]
  },
  {
   "cell_type": "code",
   "execution_count": 3,
   "id": "eabd9d13",
   "metadata": {},
   "outputs": [],
   "source": [
    "raw_df.drop('ID', axis=1, inplace=True)"
   ]
  },
  {
   "cell_type": "code",
   "execution_count": 4,
   "id": "7703a056",
   "metadata": {},
   "outputs": [
    {
     "data": {
      "text/html": [
       "<div>\n",
       "<style scoped>\n",
       "    .dataframe tbody tr th:only-of-type {\n",
       "        vertical-align: middle;\n",
       "    }\n",
       "\n",
       "    .dataframe tbody tr th {\n",
       "        vertical-align: top;\n",
       "    }\n",
       "\n",
       "    .dataframe thead th {\n",
       "        text-align: right;\n",
       "    }\n",
       "</style>\n",
       "<table border=\"1\" class=\"dataframe\">\n",
       "  <thead>\n",
       "    <tr style=\"text-align: right;\">\n",
       "      <th></th>\n",
       "      <th>Sex</th>\n",
       "      <th>Marital status</th>\n",
       "      <th>Age</th>\n",
       "      <th>Education</th>\n",
       "      <th>Income</th>\n",
       "      <th>Occupation</th>\n",
       "      <th>Settlement size</th>\n",
       "    </tr>\n",
       "  </thead>\n",
       "  <tbody>\n",
       "    <tr>\n",
       "      <th>0</th>\n",
       "      <td>0</td>\n",
       "      <td>0</td>\n",
       "      <td>67</td>\n",
       "      <td>2</td>\n",
       "      <td>124670</td>\n",
       "      <td>1</td>\n",
       "      <td>2</td>\n",
       "    </tr>\n",
       "    <tr>\n",
       "      <th>1</th>\n",
       "      <td>1</td>\n",
       "      <td>1</td>\n",
       "      <td>22</td>\n",
       "      <td>1</td>\n",
       "      <td>150773</td>\n",
       "      <td>1</td>\n",
       "      <td>2</td>\n",
       "    </tr>\n",
       "    <tr>\n",
       "      <th>2</th>\n",
       "      <td>0</td>\n",
       "      <td>0</td>\n",
       "      <td>49</td>\n",
       "      <td>1</td>\n",
       "      <td>89210</td>\n",
       "      <td>0</td>\n",
       "      <td>0</td>\n",
       "    </tr>\n",
       "    <tr>\n",
       "      <th>3</th>\n",
       "      <td>0</td>\n",
       "      <td>0</td>\n",
       "      <td>45</td>\n",
       "      <td>1</td>\n",
       "      <td>171565</td>\n",
       "      <td>1</td>\n",
       "      <td>1</td>\n",
       "    </tr>\n",
       "    <tr>\n",
       "      <th>4</th>\n",
       "      <td>0</td>\n",
       "      <td>0</td>\n",
       "      <td>53</td>\n",
       "      <td>1</td>\n",
       "      <td>149031</td>\n",
       "      <td>1</td>\n",
       "      <td>1</td>\n",
       "    </tr>\n",
       "    <tr>\n",
       "      <th>...</th>\n",
       "      <td>...</td>\n",
       "      <td>...</td>\n",
       "      <td>...</td>\n",
       "      <td>...</td>\n",
       "      <td>...</td>\n",
       "      <td>...</td>\n",
       "      <td>...</td>\n",
       "    </tr>\n",
       "    <tr>\n",
       "      <th>1995</th>\n",
       "      <td>1</td>\n",
       "      <td>0</td>\n",
       "      <td>47</td>\n",
       "      <td>1</td>\n",
       "      <td>123525</td>\n",
       "      <td>0</td>\n",
       "      <td>0</td>\n",
       "    </tr>\n",
       "    <tr>\n",
       "      <th>1996</th>\n",
       "      <td>1</td>\n",
       "      <td>1</td>\n",
       "      <td>27</td>\n",
       "      <td>1</td>\n",
       "      <td>117744</td>\n",
       "      <td>1</td>\n",
       "      <td>0</td>\n",
       "    </tr>\n",
       "    <tr>\n",
       "      <th>1997</th>\n",
       "      <td>0</td>\n",
       "      <td>0</td>\n",
       "      <td>31</td>\n",
       "      <td>0</td>\n",
       "      <td>86400</td>\n",
       "      <td>0</td>\n",
       "      <td>0</td>\n",
       "    </tr>\n",
       "    <tr>\n",
       "      <th>1998</th>\n",
       "      <td>1</td>\n",
       "      <td>1</td>\n",
       "      <td>24</td>\n",
       "      <td>1</td>\n",
       "      <td>97968</td>\n",
       "      <td>0</td>\n",
       "      <td>0</td>\n",
       "    </tr>\n",
       "    <tr>\n",
       "      <th>1999</th>\n",
       "      <td>0</td>\n",
       "      <td>0</td>\n",
       "      <td>25</td>\n",
       "      <td>0</td>\n",
       "      <td>68416</td>\n",
       "      <td>0</td>\n",
       "      <td>0</td>\n",
       "    </tr>\n",
       "  </tbody>\n",
       "</table>\n",
       "<p>2000 rows × 7 columns</p>\n",
       "</div>"
      ],
      "text/plain": [
       "      Sex  Marital status  Age  Education  Income  Occupation  Settlement size\n",
       "0       0               0   67          2  124670           1                2\n",
       "1       1               1   22          1  150773           1                2\n",
       "2       0               0   49          1   89210           0                0\n",
       "3       0               0   45          1  171565           1                1\n",
       "4       0               0   53          1  149031           1                1\n",
       "...   ...             ...  ...        ...     ...         ...              ...\n",
       "1995    1               0   47          1  123525           0                0\n",
       "1996    1               1   27          1  117744           1                0\n",
       "1997    0               0   31          0   86400           0                0\n",
       "1998    1               1   24          1   97968           0                0\n",
       "1999    0               0   25          0   68416           0                0\n",
       "\n",
       "[2000 rows x 7 columns]"
      ]
     },
     "execution_count": 4,
     "metadata": {},
     "output_type": "execute_result"
    }
   ],
   "source": [
    "raw_df"
   ]
  },
  {
   "cell_type": "code",
   "execution_count": 5,
   "id": "c2dda0b8",
   "metadata": {},
   "outputs": [
    {
     "data": {
      "text/plain": [
       "['Sex',\n",
       " 'Marital status',\n",
       " 'Age',\n",
       " 'Education',\n",
       " 'Income',\n",
       " 'Occupation',\n",
       " 'Settlement size']"
      ]
     },
     "execution_count": 5,
     "metadata": {},
     "output_type": "execute_result"
    }
   ],
   "source": [
    "cols = raw_df.columns.tolist()\n",
    "cols"
   ]
  },
  {
   "cell_type": "code",
   "execution_count": 6,
   "id": "25ce93cb",
   "metadata": {},
   "outputs": [],
   "source": [
    "cat_cols = ['Sex','Marital status','Education','Occupation','Settlement size']\n",
    "num_cols = ['Age', 'Income']"
   ]
  },
  {
   "cell_type": "code",
   "execution_count": 7,
   "id": "bd45faad",
   "metadata": {},
   "outputs": [],
   "source": [
    "# convert categrorical columns data types to category\n",
    "for col in cat_cols:\n",
    "    raw_df[col] = raw_df[col].astype('category')"
   ]
  },
  {
   "cell_type": "code",
   "execution_count": 8,
   "id": "e9d0a45f",
   "metadata": {},
   "outputs": [
    {
     "data": {
      "text/plain": [
       "Sex                0\n",
       "Marital status     0\n",
       "Age                0\n",
       "Education          0\n",
       "Income             0\n",
       "Occupation         0\n",
       "Settlement size    0\n",
       "dtype: int64"
      ]
     },
     "execution_count": 8,
     "metadata": {},
     "output_type": "execute_result"
    }
   ],
   "source": [
    "# Check for missing values\n",
    "raw_df.isna().sum()"
   ]
  },
  {
   "cell_type": "code",
   "execution_count": 9,
   "id": "827a82f8",
   "metadata": {},
   "outputs": [],
   "source": [
    "# Remove duplicates\n",
    "raw_df.drop_duplicates(inplace=True)"
   ]
  },
  {
   "cell_type": "code",
   "execution_count": 10,
   "id": "64ae6ecd",
   "metadata": {},
   "outputs": [],
   "source": [
    "# Scale the numeric cols\n",
    "scaler = StandardScaler()\n",
    "raw_df[num_cols] = scaler.fit_transform(raw_df[num_cols])\n",
    "\n",
    "# Normalize the numeric cols\n",
    "raw_df[num_cols] = normalize(raw_df[num_cols])"
   ]
  },
  {
   "cell_type": "code",
   "execution_count": 11,
   "id": "da17cef9",
   "metadata": {},
   "outputs": [],
   "source": [
    "# One Hot Encoding for Categorical Cols\n",
    "df = pd.get_dummies(raw_df[cat_cols])\n",
    "df[num_cols] = raw_df[num_cols]"
   ]
  },
  {
   "cell_type": "markdown",
   "id": "35c065cb",
   "metadata": {},
   "source": [
    "# 1. KMeans"
   ]
  },
  {
   "cell_type": "code",
   "execution_count": 12,
   "id": "3abecb3b",
   "metadata": {},
   "outputs": [
    {
     "name": "stdout",
     "output_type": "stream",
     "text": [
      "For cluster 5, score is 0.25903720785269124\n",
      "For cluster 6, score is 0.24854572356325608\n",
      "For cluster 7, score is 0.2658592597399612\n",
      "For cluster 8, score is 0.2741774200537067\n",
      "For cluster 9, score is 0.2803042597350791\n",
      "For cluster 10, score is 0.2849556164379811\n",
      "For cluster 11, score is 0.2982991518102257\n",
      "For cluster 12, score is 0.31773087997423294\n",
      "For cluster 13, score is 0.30594847841348677\n",
      "For cluster 14, score is 0.3253385210890725\n"
     ]
    }
   ],
   "source": [
    "for cluster in range(5,15):\n",
    "    kmeans = KMeans(n_clusters=cluster)\n",
    "    kmeans.fit(df)\n",
    "    pred = kmeans.predict(df)\n",
    "    score = silhouette_score(df, pred, sample_size=1000, random_state=42)\n",
    "    print(f\"For cluster {cluster}, score is {score}\")"
   ]
  },
  {
   "cell_type": "markdown",
   "id": "609e0239",
   "metadata": {},
   "source": [
    "# 2. DBSCAN"
   ]
  },
  {
   "cell_type": "code",
   "execution_count": 13,
   "id": "6ddf6027",
   "metadata": {},
   "outputs": [
    {
     "name": "stdout",
     "output_type": "stream",
     "text": [
      "eps: 0.6, score=0.46613693834733283, clusters: 38\n",
      "eps: 0.8, score=0.4683020343413329, clusters: 37\n",
      "eps: 1.0, score=0.4637075043391468, clusters: 36\n",
      "eps: 1.2, score=0.46351192593649454, clusters: 36\n",
      "eps: 1.4, score=0.46779981958388794, clusters: 37\n",
      "eps: 1.6, score=0.11985859395819799, clusters: 1\n",
      "eps: 1.8, score=0.11985859395819799, clusters: 1\n"
     ]
    }
   ],
   "source": [
    "for ep in np.arange(0.6, 2, 0.2):\n",
    "    ep = round(ep, 1)\n",
    "    dbscan = DBSCAN(min_samples=10, eps=ep)\n",
    "    dbscan.fit(df)\n",
    "    pred = dbscan.labels_\n",
    "    score = silhouette_score(df, pred, sample_size=1000, random_state=42)\n",
    "    clusters = len(set(pred)) - (1 if -1 in pred else 0)\n",
    "    print(f\"eps: {ep}, score={score}, clusters: {clusters}\")"
   ]
  },
  {
   "cell_type": "markdown",
   "id": "9365b076",
   "metadata": {},
   "source": [
    "# 3. OPTICS"
   ]
  },
  {
   "cell_type": "code",
   "execution_count": 14,
   "id": "d60dc5c3",
   "metadata": {},
   "outputs": [
    {
     "name": "stdout",
     "output_type": "stream",
     "text": [
      "eps: 1.0, score=0.4637075043391468, clusters: 37\n",
      "eps: 1.2, score=0.46351192593649454, clusters: 37\n",
      "eps: 1.4, score=0.46779981958388794, clusters: 38\n",
      "eps: 1.6, score=0.11985859395819799, clusters: 2\n",
      "eps: 1.8, score=0.11985859395819799, clusters: 2\n"
     ]
    }
   ],
   "source": [
    "for ep in np.arange(1, 2, 0.2):\n",
    "    ep = round(ep, 1)\n",
    "    optics = OPTICS(min_samples=10, xi=0.05, min_cluster_size=0.05)\n",
    "    optics.fit(df)\n",
    "    pred = cluster_optics_dbscan(\n",
    "        reachability=optics.reachability_,\n",
    "        core_distances=optics.core_distances_,\n",
    "        ordering=optics.ordering_,\n",
    "        eps=ep,\n",
    "    )\n",
    "    score = silhouette_score(df, pred, sample_size=1000, random_state=42)\n",
    "    clusters = len(set(pred))\n",
    "    print(f\"eps: {ep}, score={score}, clusters: {clusters}\")"
   ]
  },
  {
   "cell_type": "markdown",
   "id": "815e4d12",
   "metadata": {},
   "source": [
    "# 4. AffinityPropagation"
   ]
  },
  {
   "cell_type": "code",
   "execution_count": 15,
   "id": "073a52fd",
   "metadata": {},
   "outputs": [
    {
     "name": "stderr",
     "output_type": "stream",
     "text": [
      "C:\\Users\\shodeshp\\AppData\\Roaming\\Python\\Python39\\site-packages\\sklearn\\cluster\\_affinity_propagation.py:236: ConvergenceWarning: Affinity propagation did not converge, this model may return degenerate cluster centers and labels.\n",
      "  warnings.warn(\n"
     ]
    },
    {
     "name": "stdout",
     "output_type": "stream",
     "text": [
      "damping: 0.5, score: 0.4813342209857105, clusters: 188\n"
     ]
    },
    {
     "name": "stderr",
     "output_type": "stream",
     "text": [
      "C:\\Users\\shodeshp\\AppData\\Roaming\\Python\\Python39\\site-packages\\sklearn\\cluster\\_affinity_propagation.py:236: ConvergenceWarning: Affinity propagation did not converge, this model may return degenerate cluster centers and labels.\n",
      "  warnings.warn(\n"
     ]
    },
    {
     "name": "stdout",
     "output_type": "stream",
     "text": [
      "damping: 0.6, score: 0.5001537788791665, clusters: 273\n",
      "damping: 0.7, score: 0.5807693283940689, clusters: 84\n",
      "damping: 0.8, score: 0.5843712687785615, clusters: 84\n",
      "damping: 0.9, score: 0.5836650845989586, clusters: 84\n"
     ]
    }
   ],
   "source": [
    "for damping in np.arange(0.5, 1, 0.1):\n",
    "    damping = round(damping, 1)\n",
    "    ap = AffinityPropagation(damping=damping)\n",
    "    ap.fit(df)\n",
    "    pred = ap.predict(df)\n",
    "    score = silhouette_score(df, pred, sample_size=1000, random_state=42)\n",
    "    clusters = len(set(pred))\n",
    "    print(f\"damping: {damping}, score: {score}, clusters: {clusters}\")"
   ]
  }
 ],
 "metadata": {
  "kernelspec": {
   "display_name": "Python 3 (ipykernel)",
   "language": "python",
   "name": "python3"
  },
  "language_info": {
   "codemirror_mode": {
    "name": "ipython",
    "version": 3
   },
   "file_extension": ".py",
   "mimetype": "text/x-python",
   "name": "python",
   "nbconvert_exporter": "python",
   "pygments_lexer": "ipython3",
   "version": "3.9.12"
  }
 },
 "nbformat": 4,
 "nbformat_minor": 5
}
