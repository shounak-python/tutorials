{
 "cells": [
  {
   "cell_type": "markdown",
   "id": "e21b5fc2",
   "metadata": {},
   "source": [
    "# Import Libraries"
   ]
  },
  {
   "cell_type": "code",
   "execution_count": 1,
   "id": "38c8c653",
   "metadata": {},
   "outputs": [],
   "source": [
    "import warnings\n",
    "warnings.filterwarnings('ignore')\n",
    "import os\n",
    "\n",
    "import pandas as pd\n",
    "from sklearn.ensemble import IsolationForest\n",
    "from sklearn.preprocessing import StandardScaler\n",
    "from sklearn.model_selection import train_test_split\n",
    "from sklearn.metrics import classification_report, f1_score, precision_score, recall_score"
   ]
  },
  {
   "cell_type": "markdown",
   "id": "9e890acc",
   "metadata": {},
   "source": [
    "# Read Data"
   ]
  },
  {
   "cell_type": "code",
   "execution_count": 2,
   "id": "202aea5d",
   "metadata": {},
   "outputs": [],
   "source": [
    "# Form list of file paths for train and test data\n",
    "train_filenames = os.listdir(\"../database/anomaly_detection_data/train/\")\n",
    "train_filenames = [f\"../database/anomaly_detection_data/train/{item}\" for item in train_filenames]\n",
    "\n",
    "test_filenames = os.listdir(\"../database/anomaly_detection_data/test/\")\n",
    "test_filenames = [f\"../database/anomaly_detection_data/test/{item}\" for item in test_filenames]"
   ]
  },
  {
   "cell_type": "code",
   "execution_count": 3,
   "id": "b9e30831",
   "metadata": {},
   "outputs": [],
   "source": [
    "# Read column names\n",
    "raw_df = pd.read_csv(\"../database/anomaly_detection_data/train/data_0.csv\")\n",
    "columns = raw_df.columns.tolist()"
   ]
  },
  {
   "cell_type": "code",
   "execution_count": 4,
   "id": "c74adccc",
   "metadata": {},
   "outputs": [],
   "source": [
    "# Form train and test dataframes and populate them\n",
    "train_df = pd.DataFrame(columns=columns)\n",
    "test_df = pd.DataFrame(columns=columns)\n",
    "\n",
    "for path in train_filenames:\n",
    "    df = pd.read_csv(path)\n",
    "    train_df=train_df.append(df)\n",
    "\n",
    "for path in test_filenames:\n",
    "    df = pd.read_csv(path)\n",
    "    test_df=test_df.append(df)"
   ]
  },
  {
   "cell_type": "code",
   "execution_count": 5,
   "id": "47409b71",
   "metadata": {},
   "outputs": [],
   "source": [
    "# Reset index\n",
    "train_df.reset_index(drop=True, inplace=True)\n",
    "test_df.reset_index(drop=True, inplace=True)"
   ]
  },
  {
   "cell_type": "markdown",
   "id": "3e6f831e",
   "metadata": {},
   "source": [
    "# Data Cleaning"
   ]
  },
  {
   "cell_type": "code",
   "execution_count": 6,
   "id": "eb835550",
   "metadata": {},
   "outputs": [
    {
     "name": "stdout",
     "output_type": "stream",
     "text": [
      "x                  0\n",
      "y                  0\n",
      "z                  0\n",
      "010-000-024-033    0\n",
      "010-000-030-096    0\n",
      "020-000-032-221    0\n",
      "020-000-033-111    0\n",
      "anomaly            0\n",
      "dtype: int64\n"
     ]
    }
   ],
   "source": [
    "# Drop duplicates\n",
    "train_df.drop_duplicates(inplace=True)\n",
    "\n",
    "# Check for missing valeus\n",
    "print(train_df.isna().sum())"
   ]
  },
  {
   "cell_type": "code",
   "execution_count": 7,
   "id": "25a59124",
   "metadata": {},
   "outputs": [
    {
     "name": "stdout",
     "output_type": "stream",
     "text": [
      "<class 'pandas.core.frame.DataFrame'>\n",
      "Int64Index: 134229 entries, 0 to 134228\n",
      "Data columns (total 8 columns):\n",
      " #   Column           Non-Null Count   Dtype \n",
      "---  ------           --------------   ----- \n",
      " 0   x                134229 non-null  object\n",
      " 1   y                134229 non-null  object\n",
      " 2   z                134229 non-null  object\n",
      " 3   010-000-024-033  134229 non-null  object\n",
      " 4   010-000-030-096  134229 non-null  object\n",
      " 5   020-000-032-221  134229 non-null  object\n",
      " 6   020-000-033-111  134229 non-null  object\n",
      " 7   anomaly          134229 non-null  object\n",
      "dtypes: object(8)\n",
      "memory usage: 9.2+ MB\n",
      "None\n"
     ]
    }
   ],
   "source": [
    "# Check datatypes\n",
    "print(train_df.info())"
   ]
  },
  {
   "cell_type": "markdown",
   "id": "30363621",
   "metadata": {},
   "source": [
    "### From observation, we can see that 'x', 'y', 'z' are numeric columns and the remaining are categorical columns\n",
    "### Let us convert these to numeric and categorical datatypes"
   ]
  },
  {
   "cell_type": "code",
   "execution_count": 8,
   "id": "364dc5a1",
   "metadata": {},
   "outputs": [],
   "source": [
    "numeric_col = ['x', 'y', 'z']\n",
    "categorical_col = [ '010-000-024-033', '010-000-030-096', '020-000-032-221', '020-000-033-111', 'anomaly']\n",
    "# convert to numeric\n",
    "for col in numeric_col:\n",
    "    train_df[col] = pd.to_numeric(train_df[col])\n",
    "\n",
    "# convert to categorical\n",
    "for col in categorical_col:\n",
    "    train_df[col] = train_df[col].astype('category')"
   ]
  },
  {
   "cell_type": "code",
   "execution_count": 9,
   "id": "c2b01781",
   "metadata": {},
   "outputs": [
    {
     "data": {
      "text/plain": [
       "<AxesSubplot:>"
      ]
     },
     "execution_count": 9,
     "metadata": {},
     "output_type": "execute_result"
    },
    {
     "data": {
      "image/png": "[encoded data removed]",
      "text/plain": [
       "<Figure size 432x288 with 1 Axes>"
      ]
     },
     "metadata": {
      "needs_background": "light"
     },
     "output_type": "display_data"
    }
   ],
   "source": [
    "# Check outliers\n",
    "train_df[['x', 'y', 'z']].plot(kind='box')"
   ]
  },
  {
   "cell_type": "markdown",
   "id": "b8b80c9a",
   "metadata": {},
   "source": [
    "We see there are outliers for column 'z'. Let us remove the **outliers**"
   ]
  },
  {
   "cell_type": "code",
   "execution_count": 10,
   "id": "789b2f9d",
   "metadata": {},
   "outputs": [],
   "source": [
    "# Calculate values to deal with outliers\n",
    "q1 = train_df.z.quantile(0.25)    # 25th quartile\n",
    "q3 = train_df.z.quantile(0.75)    # 75th quartile\n",
    "iqr = q3-q1                       # inter quartile range\n",
    "max_z = q3 + 1.5*iqr              # permissible maximum\n",
    "min_z = q1 - 1.5*iqr              # permissible minimum\n",
    "\n",
    "def process_outlier(value, max_val, min_val):\n",
    "    \"\"\"Function to replace the outlier values with permissible maximum and minimum values\"\"\"\n",
    "    if value > max_val:\n",
    "        return max_val\n",
    "    elif value < min_val:\n",
    "        return min_val\n",
    "    else:\n",
    "        return value\n",
    "\n",
    "# apply the function to process outliers for the 'z' column\n",
    "train_df.z=train_df.z.apply(lambda x: process_outlier(x, max_z, min_z))"
   ]
  },
  {
   "cell_type": "code",
   "execution_count": 11,
   "id": "3e52bab7",
   "metadata": {},
   "outputs": [
    {
     "data": {
      "text/plain": [
       "<AxesSubplot:>"
      ]
     },
     "execution_count": 11,
     "metadata": {},
     "output_type": "execute_result"
    },
    {
     "data": {
      "image/png": "[encoded data removed]",
      "text/plain": [
       "<Figure size 432x288 with 1 Axes>"
      ]
     },
     "metadata": {
      "needs_background": "light"
     },
     "output_type": "display_data"
    }
   ],
   "source": [
    "# recheck outliers\n",
    "train_df[['x', 'y', 'z']].plot(kind='box')"
   ]
  },
  {
   "cell_type": "markdown",
   "id": "55781f3a",
   "metadata": {},
   "source": [
    "# Form features and target"
   ]
  },
  {
   "cell_type": "code",
   "execution_count": 12,
   "id": "d45798c3",
   "metadata": {},
   "outputs": [],
   "source": [
    "# Form features and target\n",
    "features = train_df[columns[:-1]]\n",
    "target = train_df['anomaly']"
   ]
  },
  {
   "cell_type": "markdown",
   "id": "53c5afc7",
   "metadata": {},
   "source": [
    "# Form train and validation split"
   ]
  },
  {
   "cell_type": "code",
   "execution_count": 13,
   "id": "ff92216e",
   "metadata": {},
   "outputs": [],
   "source": [
    "# Form train and validation split\n",
    "train_x, val_x, train_y, val_y = train_test_split(features, target, test_size=0.2, random_state=42)"
   ]
  },
  {
   "cell_type": "markdown",
   "id": "1892482d",
   "metadata": {},
   "source": [
    "# Scale the data"
   ]
  },
  {
   "cell_type": "code",
   "execution_count": 14,
   "id": "b5602d24",
   "metadata": {},
   "outputs": [],
   "source": [
    "# Scale the data\n",
    "scaler = StandardScaler()"
   ]
  },
  {
   "cell_type": "code",
   "execution_count": 15,
   "id": "812e722d",
   "metadata": {},
   "outputs": [],
   "source": [
    "train_x[numeric_col] = scaler.fit_transform(train_x[numeric_col])\n",
    "val_x[numeric_col] = scaler.transform(val_x[numeric_col])"
   ]
  },
  {
   "cell_type": "markdown",
   "id": "ae0c061d",
   "metadata": {},
   "source": [
    "# Create Model, Train and Evaluate"
   ]
  },
  {
   "cell_type": "code",
   "execution_count": 16,
   "id": "705ef71f",
   "metadata": {},
   "outputs": [
    {
     "name": "stdout",
     "output_type": "stream",
     "text": [
      "              precision    recall  f1-score   support\n",
      "\n",
      "           0       0.80      0.96      0.87     21456\n",
      "           1       0.27      0.07      0.11      5390\n",
      "\n",
      "    accuracy                           0.78     26846\n",
      "   macro avg       0.54      0.51      0.49     26846\n",
      "weighted avg       0.70      0.78      0.72     26846\n",
      "\n",
      "0.27230411171450736\n",
      "0.06512059369202226\n"
     ]
    }
   ],
   "source": [
    "# for anomaly detection model\n",
    "anomaly_model = IsolationForest(n_estimators=400, contamination=0.2)\n",
    "anomaly_model.fit(train_x)\n",
    "\n",
    "# evaluate for validation data\n",
    "y_pred = anomaly_model.predict(val_x)\n",
    "y_pred = [1 if item==-1 else 0 for item in y_pred]\n",
    "\n",
    "\n",
    "print(classification_report(y_pred, val_y))\n",
    "print(precision_score(y_pred, val_y))\n",
    "print(recall_score(y_pred, val_y))"
   ]
  },
  {
   "cell_type": "code",
   "execution_count": 17,
   "id": "27cdfd73",
   "metadata": {},
   "outputs": [
    {
     "name": "stdout",
     "output_type": "stream",
     "text": [
      "              precision    recall  f1-score   support\n",
      "\n",
      "           0       0.66      0.96      0.78     19649\n",
      "           1       0.49      0.08      0.13     10381\n",
      "\n",
      "    accuracy                           0.65     30030\n",
      "   macro avg       0.57      0.52      0.46     30030\n",
      "weighted avg       0.60      0.65      0.56     30030\n",
      "\n"
     ]
    }
   ],
   "source": [
    "# Evaluate on test data\n",
    "\n",
    "numeric_col = ['x', 'y', 'z']\n",
    "categorical_col = [ '010-000-024-033', '010-000-030-096', '020-000-032-221', '020-000-033-111', 'anomaly']\n",
    "# convert to numeric\n",
    "for col in numeric_col:\n",
    "    test_df[col] = pd.to_numeric(test_df[col])\n",
    "\n",
    "# convert to categorical\n",
    "for col in categorical_col:\n",
    "    test_df[col] = test_df[col].astype('category')\n",
    "\n",
    "# feature and target\n",
    "test_features = test_df[columns[:-1]]\n",
    "test_target = test_df['anomaly']\n",
    "\n",
    "# scale\n",
    "test_features[numeric_col] = scaler.transform(test_features[numeric_col])\n",
    "\n",
    "# predict\n",
    "test_pred = anomaly_model.predict(test_features)\n",
    "test_pred = [1 if value==-1 else 0 for value in test_pred]\n",
    "\n",
    "# evaluate\n",
    "print(classification_report(test_pred, test_target))"
   ]
  },
  {
   "cell_type": "markdown",
   "id": "ff52f5fd",
   "metadata": {},
   "source": [
    "---\n",
    "---\n",
    "# Author\n",
    "Shounak Deshpande <br>\n",
    "shounak.python@gmail.com"
   ]
  }
 ],
 "metadata": {
  "kernelspec": {
   "display_name": "Python 3 (ipykernel)",
   "language": "python",
   "name": "python3"
  },
  "language_info": {
   "codemirror_mode": {
    "name": "ipython",
    "version": 3
   },
   "file_extension": ".py",
   "mimetype": "text/x-python",
   "name": "python",
   "nbconvert_exporter": "python",
   "pygments_lexer": "ipython3",
   "version": "3.9.12"
  }
 },
 "nbformat": 4,
 "nbformat_minor": 5
}
