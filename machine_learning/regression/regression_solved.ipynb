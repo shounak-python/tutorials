{
 "cells": [
  {
   "cell_type": "markdown",
   "id": "efe4e765",
   "metadata": {},
   "source": [
    "Dataset taken from Kaggle <br>\n",
    "https://www.kaggle.com/datasets/maajdl/yeh-concret-data"
   ]
  },
  {
   "cell_type": "markdown",
   "id": "8d37d76e",
   "metadata": {},
   "source": [
    "<img src=\"../ML_steps.png\">"
   ]
  },
  {
   "cell_type": "markdown",
   "id": "6a0d778f",
   "metadata": {},
   "source": [
    "# Import Libraries"
   ]
  },
  {
   "cell_type": "code",
   "execution_count": 1,
   "id": "8ee852ba",
   "metadata": {},
   "outputs": [],
   "source": [
    "# To read the data and form dataframe\n",
    "import pandas as pd\n",
    "\n",
    "# Train Test Split\n",
    "from sklearn.model_selection import train_test_split\n",
    "\n",
    "# Data preprocessing\n",
    "from sklearn.preprocessing import StandardScaler\n",
    "\n",
    "# Train the model\n",
    "from sklearn.linear_model import LinearRegression\n",
    "from sklearn.ensemble import RandomForestRegressor\n",
    "from sklearn.svm import SVR\n",
    "\n",
    "# Model evaluation\n",
    "from sklearn.metrics import mean_squared_error, explained_variance_score"
   ]
  },
  {
   "cell_type": "markdown",
   "id": "7b7f87bd",
   "metadata": {},
   "source": [
    "# Read the data"
   ]
  },
  {
   "cell_type": "code",
   "execution_count": 2,
   "id": "b41b6e66",
   "metadata": {},
   "outputs": [],
   "source": [
    "raw_df = pd.read_csv('../database/regression_Concrete_Data_Yeh.csv')"
   ]
  },
  {
   "cell_type": "code",
   "execution_count": 3,
   "id": "7e01dcfc",
   "metadata": {},
   "outputs": [
    {
     "data": {
      "text/html": [
       "<div>\n",
       "<style scoped>\n",
       "    .dataframe tbody tr th:only-of-type {\n",
       "        vertical-align: middle;\n",
       "    }\n",
       "\n",
       "    .dataframe tbody tr th {\n",
       "        vertical-align: top;\n",
       "    }\n",
       "\n",
       "    .dataframe thead th {\n",
       "        text-align: right;\n",
       "    }\n",
       "</style>\n",
       "<table border=\"1\" class=\"dataframe\">\n",
       "  <thead>\n",
       "    <tr style=\"text-align: right;\">\n",
       "      <th></th>\n",
       "      <th>cement</th>\n",
       "      <th>slag</th>\n",
       "      <th>flyash</th>\n",
       "      <th>water</th>\n",
       "      <th>superplasticizer</th>\n",
       "      <th>coarseaggregate</th>\n",
       "      <th>fineaggregate</th>\n",
       "      <th>age</th>\n",
       "      <th>csMPa</th>\n",
       "    </tr>\n",
       "  </thead>\n",
       "  <tbody>\n",
       "    <tr>\n",
       "      <th>0</th>\n",
       "      <td>540.0</td>\n",
       "      <td>0.0</td>\n",
       "      <td>0.0</td>\n",
       "      <td>162.0</td>\n",
       "      <td>2.5</td>\n",
       "      <td>1040.0</td>\n",
       "      <td>676.0</td>\n",
       "      <td>28</td>\n",
       "      <td>79.99</td>\n",
       "    </tr>\n",
       "    <tr>\n",
       "      <th>1</th>\n",
       "      <td>540.0</td>\n",
       "      <td>0.0</td>\n",
       "      <td>0.0</td>\n",
       "      <td>162.0</td>\n",
       "      <td>2.5</td>\n",
       "      <td>1055.0</td>\n",
       "      <td>676.0</td>\n",
       "      <td>28</td>\n",
       "      <td>61.89</td>\n",
       "    </tr>\n",
       "  </tbody>\n",
       "</table>\n",
       "</div>"
      ],
      "text/plain": [
       "   cement  slag  flyash  water  superplasticizer  coarseaggregate  \\\n",
       "0   540.0   0.0     0.0  162.0               2.5           1040.0   \n",
       "1   540.0   0.0     0.0  162.0               2.5           1055.0   \n",
       "\n",
       "   fineaggregate  age  csMPa  \n",
       "0          676.0   28  79.99  \n",
       "1          676.0   28  61.89  "
      ]
     },
     "execution_count": 3,
     "metadata": {},
     "output_type": "execute_result"
    }
   ],
   "source": [
    "raw_df.head(2)"
   ]
  },
  {
   "cell_type": "code",
   "execution_count": 4,
   "id": "d9105721",
   "metadata": {},
   "outputs": [
    {
     "data": {
      "text/plain": [
       "(1030, 9)"
      ]
     },
     "execution_count": 4,
     "metadata": {},
     "output_type": "execute_result"
    }
   ],
   "source": [
    "# Check shape of the dataset\n",
    "raw_df.shape"
   ]
  },
  {
   "cell_type": "markdown",
   "id": "9fe4ce69",
   "metadata": {},
   "source": [
    "# Clean Data\n",
    "---\n",
    "### Check for missing values and duplicates"
   ]
  },
  {
   "cell_type": "code",
   "execution_count": 5,
   "id": "59f0af85",
   "metadata": {},
   "outputs": [
    {
     "name": "stdout",
     "output_type": "stream",
     "text": [
      "cement              0\n",
      "slag                0\n",
      "flyash              0\n",
      "water               0\n",
      "superplasticizer    0\n",
      "coarseaggregate     0\n",
      "fineaggregate       0\n",
      "age                 0\n",
      "csMPa               0\n",
      "dtype: int64\n"
     ]
    }
   ],
   "source": [
    "# remove duplicates\n",
    "raw_df.drop_duplicates(inplace=True)\n",
    "\n",
    "# check for missing values\n",
    "print(raw_df.isna().sum())"
   ]
  },
  {
   "cell_type": "markdown",
   "id": "9dd96271",
   "metadata": {},
   "source": [
    "---\n",
    "### Check for outliers"
   ]
  },
  {
   "cell_type": "code",
   "execution_count": 6,
   "id": "d0adb1fc",
   "metadata": {},
   "outputs": [
    {
     "data": {
      "text/plain": [
       "<AxesSubplot:>"
      ]
     },
     "execution_count": 6,
     "metadata": {},
     "output_type": "execute_result"
    },
    {
     "data": {
      "image/png": "[encoded data removed]",
      "text/plain": [
       "<Figure size 1080x360 with 1 Axes>"
      ]
     },
     "metadata": {
      "needs_background": "light"
     },
     "output_type": "display_data"
    }
   ],
   "source": [
    "# Check outliers via boxplot\n",
    "raw_df.plot(kind='box', figsize=(15, 5))"
   ]
  },
  {
   "cell_type": "code",
   "execution_count": 7,
   "id": "4d812aaa",
   "metadata": {},
   "outputs": [],
   "source": [
    "# let us create a function where we replace the outlier values with min max values for their reapective feature\n",
    "\n",
    "# Form permissible min max values based on Inter Quartile Range (IQR)\n",
    "q1 = raw_df.quantile(0.25)\n",
    "q3 = raw_df.quantile(0.75)\n",
    "iqr = q3 - q1\n",
    "min_val = q1 - 1.5 * iqr\n",
    "max_val = q3 + 1.5 * iqr\n",
    "\n",
    "\n",
    "def process_outlier(value: float, min_val: float, max_val: float) -> float:\n",
    "    \"\"\"\n",
    "    Info: returns the permissible value based on min max values.\n",
    "    \n",
    "    Arguments:\n",
    "        value (float): input value to check\n",
    "        min_val (float): minimum permissible value\n",
    "        max_val (float): maximum permissible value\n",
    "    \n",
    "    Returns:\n",
    "        float: value if the value lies between minimum and maximum value else minimum or maximum value.\n",
    "    \"\"\"\n",
    "    if value < min_val:\n",
    "        return min_val\n",
    "    elif value > max_val:\n",
    "        return max_val\n",
    "    else:\n",
    "        return value"
   ]
  },
  {
   "cell_type": "code",
   "execution_count": 8,
   "id": "3e136e17",
   "metadata": {},
   "outputs": [],
   "source": [
    "# Form list of columns where we see outliers\n",
    "outlier_cols = [\"slag\", \"water\", \"superplasticizer\", \"fineaggregate\", \"age\", \"csMPa\"]"
   ]
  },
  {
   "cell_type": "code",
   "execution_count": 9,
   "id": "c37bc4e2",
   "metadata": {},
   "outputs": [],
   "source": [
    "# Loop over the columns to process their outliers\n",
    "for col_name in outlier_cols:\n",
    "    raw_df[col_name] = raw_df[col_name].apply(lambda x: process_outlier(x,min_val[col_name], max_val[col_name]))"
   ]
  },
  {
   "cell_type": "code",
   "execution_count": 10,
   "id": "88e15f65",
   "metadata": {},
   "outputs": [
    {
     "data": {
      "text/plain": [
       "<AxesSubplot:>"
      ]
     },
     "execution_count": 10,
     "metadata": {},
     "output_type": "execute_result"
    },
    {
     "data": {
      "image/png": "[encoded data removed]",
      "text/plain": [
       "<Figure size 1080x360 with 1 Axes>"
      ]
     },
     "metadata": {
      "needs_background": "light"
     },
     "output_type": "display_data"
    }
   ],
   "source": [
    "# Check outliers via boxplot\n",
    "raw_df.plot(kind='box', figsize=(15, 5))"
   ]
  },
  {
   "cell_type": "markdown",
   "id": "8273b407",
   "metadata": {},
   "source": [
    "---\n",
    "### Check correlations"
   ]
  },
  {
   "cell_type": "code",
   "execution_count": 11,
   "id": "c0951684",
   "metadata": {},
   "outputs": [
    {
     "data": {
      "text/html": [
       "<div>\n",
       "<style scoped>\n",
       "    .dataframe tbody tr th:only-of-type {\n",
       "        vertical-align: middle;\n",
       "    }\n",
       "\n",
       "    .dataframe tbody tr th {\n",
       "        vertical-align: top;\n",
       "    }\n",
       "\n",
       "    .dataframe thead th {\n",
       "        text-align: right;\n",
       "    }\n",
       "</style>\n",
       "<table border=\"1\" class=\"dataframe\">\n",
       "  <thead>\n",
       "    <tr style=\"text-align: right;\">\n",
       "      <th></th>\n",
       "      <th>cement</th>\n",
       "      <th>slag</th>\n",
       "      <th>flyash</th>\n",
       "      <th>water</th>\n",
       "      <th>superplasticizer</th>\n",
       "      <th>coarseaggregate</th>\n",
       "      <th>fineaggregate</th>\n",
       "      <th>age</th>\n",
       "      <th>csMPa</th>\n",
       "    </tr>\n",
       "  </thead>\n",
       "  <tbody>\n",
       "    <tr>\n",
       "      <th>cement</th>\n",
       "      <td>1.000000</td>\n",
       "      <td>-0.303370</td>\n",
       "      <td>-0.385610</td>\n",
       "      <td>-0.057209</td>\n",
       "      <td>0.044817</td>\n",
       "      <td>-0.086205</td>\n",
       "      <td>-0.247662</td>\n",
       "      <td>0.055649</td>\n",
       "      <td>0.488690</td>\n",
       "    </tr>\n",
       "    <tr>\n",
       "      <th>slag</th>\n",
       "      <td>-0.303370</td>\n",
       "      <td>1.000000</td>\n",
       "      <td>-0.312365</td>\n",
       "      <td>0.130227</td>\n",
       "      <td>0.019602</td>\n",
       "      <td>-0.277595</td>\n",
       "      <td>-0.291129</td>\n",
       "      <td>-0.054634</td>\n",
       "      <td>0.102440</td>\n",
       "    </tr>\n",
       "    <tr>\n",
       "      <th>flyash</th>\n",
       "      <td>-0.385610</td>\n",
       "      <td>-0.312365</td>\n",
       "      <td>1.000000</td>\n",
       "      <td>-0.284541</td>\n",
       "      <td>0.436185</td>\n",
       "      <td>-0.026468</td>\n",
       "      <td>0.091873</td>\n",
       "      <td>-0.094626</td>\n",
       "      <td>-0.079685</td>\n",
       "    </tr>\n",
       "    <tr>\n",
       "      <th>water</th>\n",
       "      <td>-0.057209</td>\n",
       "      <td>0.130227</td>\n",
       "      <td>-0.284541</td>\n",
       "      <td>1.000000</td>\n",
       "      <td>-0.656012</td>\n",
       "      <td>-0.210399</td>\n",
       "      <td>-0.444192</td>\n",
       "      <td>0.194559</td>\n",
       "      <td>-0.271381</td>\n",
       "    </tr>\n",
       "    <tr>\n",
       "      <th>superplasticizer</th>\n",
       "      <td>0.044817</td>\n",
       "      <td>0.019602</td>\n",
       "      <td>0.436185</td>\n",
       "      <td>-0.656012</td>\n",
       "      <td>1.000000</td>\n",
       "      <td>-0.235715</td>\n",
       "      <td>0.201940</td>\n",
       "      <td>-0.127533</td>\n",
       "      <td>0.342983</td>\n",
       "    </tr>\n",
       "    <tr>\n",
       "      <th>coarseaggregate</th>\n",
       "      <td>-0.086205</td>\n",
       "      <td>-0.277595</td>\n",
       "      <td>-0.026468</td>\n",
       "      <td>-0.210399</td>\n",
       "      <td>-0.235715</td>\n",
       "      <td>1.000000</td>\n",
       "      <td>-0.160494</td>\n",
       "      <td>0.012784</td>\n",
       "      <td>-0.145794</td>\n",
       "    </tr>\n",
       "    <tr>\n",
       "      <th>fineaggregate</th>\n",
       "      <td>-0.247662</td>\n",
       "      <td>-0.291129</td>\n",
       "      <td>0.091873</td>\n",
       "      <td>-0.444192</td>\n",
       "      <td>0.201940</td>\n",
       "      <td>-0.160494</td>\n",
       "      <td>1.000000</td>\n",
       "      <td>-0.097933</td>\n",
       "      <td>-0.188509</td>\n",
       "    </tr>\n",
       "    <tr>\n",
       "      <th>age</th>\n",
       "      <td>0.055649</td>\n",
       "      <td>-0.054634</td>\n",
       "      <td>-0.094626</td>\n",
       "      <td>0.194559</td>\n",
       "      <td>-0.127533</td>\n",
       "      <td>0.012784</td>\n",
       "      <td>-0.097933</td>\n",
       "      <td>1.000000</td>\n",
       "      <td>0.476726</td>\n",
       "    </tr>\n",
       "    <tr>\n",
       "      <th>csMPa</th>\n",
       "      <td>0.488690</td>\n",
       "      <td>0.102440</td>\n",
       "      <td>-0.079685</td>\n",
       "      <td>-0.271381</td>\n",
       "      <td>0.342983</td>\n",
       "      <td>-0.145794</td>\n",
       "      <td>-0.188509</td>\n",
       "      <td>0.476726</td>\n",
       "      <td>1.000000</td>\n",
       "    </tr>\n",
       "  </tbody>\n",
       "</table>\n",
       "</div>"
      ],
      "text/plain": [
       "                    cement      slag    flyash     water  superplasticizer  \\\n",
       "cement            1.000000 -0.303370 -0.385610 -0.057209          0.044817   \n",
       "slag             -0.303370  1.000000 -0.312365  0.130227          0.019602   \n",
       "flyash           -0.385610 -0.312365  1.000000 -0.284541          0.436185   \n",
       "water            -0.057209  0.130227 -0.284541  1.000000         -0.656012   \n",
       "superplasticizer  0.044817  0.019602  0.436185 -0.656012          1.000000   \n",
       "coarseaggregate  -0.086205 -0.277595 -0.026468 -0.210399         -0.235715   \n",
       "fineaggregate    -0.247662 -0.291129  0.091873 -0.444192          0.201940   \n",
       "age               0.055649 -0.054634 -0.094626  0.194559         -0.127533   \n",
       "csMPa             0.488690  0.102440 -0.079685 -0.271381          0.342983   \n",
       "\n",
       "                  coarseaggregate  fineaggregate       age     csMPa  \n",
       "cement                  -0.086205      -0.247662  0.055649  0.488690  \n",
       "slag                    -0.277595      -0.291129 -0.054634  0.102440  \n",
       "flyash                  -0.026468       0.091873 -0.094626 -0.079685  \n",
       "water                   -0.210399      -0.444192  0.194559 -0.271381  \n",
       "superplasticizer        -0.235715       0.201940 -0.127533  0.342983  \n",
       "coarseaggregate          1.000000      -0.160494  0.012784 -0.145794  \n",
       "fineaggregate           -0.160494       1.000000 -0.097933 -0.188509  \n",
       "age                      0.012784      -0.097933  1.000000  0.476726  \n",
       "csMPa                   -0.145794      -0.188509  0.476726  1.000000  "
      ]
     },
     "execution_count": 11,
     "metadata": {},
     "output_type": "execute_result"
    }
   ],
   "source": [
    "raw_df.corr()"
   ]
  },
  {
   "cell_type": "markdown",
   "id": "73b6ccfc",
   "metadata": {},
   "source": [
    "# Form *features* and *target*\n",
    "Features are the independent variables<br>\n",
    "Target is the dependent variable"
   ]
  },
  {
   "cell_type": "code",
   "execution_count": 12,
   "id": "cb2052e2",
   "metadata": {},
   "outputs": [],
   "source": [
    "# Form features and target\n",
    "features = raw_df[raw_df.columns.tolist()[:-1]]\n",
    "target = raw_df[raw_df.columns.tolist()[-1]]"
   ]
  },
  {
   "cell_type": "markdown",
   "id": "fe840426",
   "metadata": {},
   "source": [
    "# Train Test Split"
   ]
  },
  {
   "cell_type": "code",
   "execution_count": 13,
   "id": "13fc5e2a",
   "metadata": {},
   "outputs": [
    {
     "name": "stdout",
     "output_type": "stream",
     "text": [
      "(804, 8) (201, 8) (804,) (201,)\n"
     ]
    }
   ],
   "source": [
    "# Split the data using train test split with test_size of 20%\n",
    "train_x, test_x, train_y, test_y = train_test_split(\n",
    "    features, target, test_size=0.2, random_state=42\n",
    ")\n",
    "\n",
    "# Check the shape of the train and test split\n",
    "print(train_x.shape, test_x.shape, train_y.shape, test_y.shape)"
   ]
  },
  {
   "cell_type": "markdown",
   "id": "f0f769ca",
   "metadata": {},
   "source": [
    "# Normalize Data"
   ]
  },
  {
   "cell_type": "code",
   "execution_count": 14,
   "id": "b275b0e3",
   "metadata": {},
   "outputs": [],
   "source": [
    "scaler = StandardScaler()\n",
    "\n",
    "processed_train_x = scaler.fit_transform(train_x)\n",
    "processed_test_x = scaler.transform(test_x)"
   ]
  },
  {
   "cell_type": "markdown",
   "id": "d54c54be",
   "metadata": {},
   "source": [
    "# Train Model"
   ]
  },
  {
   "cell_type": "code",
   "execution_count": 15,
   "id": "71a99d8d",
   "metadata": {},
   "outputs": [],
   "source": [
    "# Form model objects. For demo purpose, we will consider Linear Regression, Random Forest and Support Vector\n",
    "\n",
    "model_lr = LinearRegression()\n",
    "model_rf = RandomForestRegressor()\n",
    "model_sv = SVR()"
   ]
  },
  {
   "cell_type": "code",
   "execution_count": 16,
   "id": "35c62c99",
   "metadata": {},
   "outputs": [
    {
     "data": {
      "text/html": [
       "<style>#sk-container-id-1 {color: black;background-color: white;}#sk-container-id-1 pre{padding: 0;}#sk-container-id-1 div.sk-toggleable {background-color: white;}#sk-container-id-1 label.sk-toggleable__label {cursor: pointer;display: block;width: 100%;margin-bottom: 0;padding: 0.3em;box-sizing: border-box;text-align: center;}#sk-container-id-1 label.sk-toggleable__label-arrow:before {content: \"▸\";float: left;margin-right: 0.25em;color: #696969;}#sk-container-id-1 label.sk-toggleable__label-arrow:hover:before {color: black;}#sk-container-id-1 div.sk-estimator:hover label.sk-toggleable__label-arrow:before {color: black;}#sk-container-id-1 div.sk-toggleable__content {max-height: 0;max-width: 0;overflow: hidden;text-align: left;background-color: #f0f8ff;}#sk-container-id-1 div.sk-toggleable__content pre {margin: 0.2em;color: black;border-radius: 0.25em;background-color: #f0f8ff;}#sk-container-id-1 input.sk-toggleable__control:checked~div.sk-toggleable__content {max-height: 200px;max-width: 100%;overflow: auto;}#sk-container-id-1 input.sk-toggleable__control:checked~label.sk-toggleable__label-arrow:before {content: \"▾\";}#sk-container-id-1 div.sk-estimator input.sk-toggleable__control:checked~label.sk-toggleable__label {background-color: #d4ebff;}#sk-container-id-1 div.sk-label input.sk-toggleable__control:checked~label.sk-toggleable__label {background-color: #d4ebff;}#sk-container-id-1 input.sk-hidden--visually {border: 0;clip: rect(1px 1px 1px 1px);clip: rect(1px, 1px, 1px, 1px);height: 1px;margin: -1px;overflow: hidden;padding: 0;position: absolute;width: 1px;}#sk-container-id-1 div.sk-estimator {font-family: monospace;background-color: #f0f8ff;border: 1px dotted black;border-radius: 0.25em;box-sizing: border-box;margin-bottom: 0.5em;}#sk-container-id-1 div.sk-estimator:hover {background-color: #d4ebff;}#sk-container-id-1 div.sk-parallel-item::after {content: \"\";width: 100%;border-bottom: 1px solid gray;flex-grow: 1;}#sk-container-id-1 div.sk-label:hover label.sk-toggleable__label {background-color: #d4ebff;}#sk-container-id-1 div.sk-serial::before {content: \"\";position: absolute;border-left: 1px solid gray;box-sizing: border-box;top: 0;bottom: 0;left: 50%;z-index: 0;}#sk-container-id-1 div.sk-serial {display: flex;flex-direction: column;align-items: center;background-color: white;padding-right: 0.2em;padding-left: 0.2em;position: relative;}#sk-container-id-1 div.sk-item {position: relative;z-index: 1;}#sk-container-id-1 div.sk-parallel {display: flex;align-items: stretch;justify-content: center;background-color: white;position: relative;}#sk-container-id-1 div.sk-item::before, #sk-container-id-1 div.sk-parallel-item::before {content: \"\";position: absolute;border-left: 1px solid gray;box-sizing: border-box;top: 0;bottom: 0;left: 50%;z-index: -1;}#sk-container-id-1 div.sk-parallel-item {display: flex;flex-direction: column;z-index: 1;position: relative;background-color: white;}#sk-container-id-1 div.sk-parallel-item:first-child::after {align-self: flex-end;width: 50%;}#sk-container-id-1 div.sk-parallel-item:last-child::after {align-self: flex-start;width: 50%;}#sk-container-id-1 div.sk-parallel-item:only-child::after {width: 0;}#sk-container-id-1 div.sk-dashed-wrapped {border: 1px dashed gray;margin: 0 0.4em 0.5em 0.4em;box-sizing: border-box;padding-bottom: 0.4em;background-color: white;}#sk-container-id-1 div.sk-label label {font-family: monospace;font-weight: bold;display: inline-block;line-height: 1.2em;}#sk-container-id-1 div.sk-label-container {text-align: center;}#sk-container-id-1 div.sk-container {/* jupyter's `normalize.less` sets `[hidden] { display: none; }` but bootstrap.min.css set `[hidden] { display: none !important; }` so we also need the `!important` here to be able to override the default hidden behavior on the sphinx rendered scikit-learn.org. See: https://github.com/scikit-learn/scikit-learn/issues/21755 */display: inline-block !important;position: relative;}#sk-container-id-1 div.sk-text-repr-fallback {display: none;}</style><div id=\"sk-container-id-1\" class=\"sk-top-container\"><div class=\"sk-text-repr-fallback\"><pre>SVR()</pre><b>In a Jupyter environment, please rerun this cell to show the HTML representation or trust the notebook. <br />On GitHub, the HTML representation is unable to render, please try loading this page with nbviewer.org.</b></div><div class=\"sk-container\" hidden><div class=\"sk-item\"><div class=\"sk-estimator sk-toggleable\"><input class=\"sk-toggleable__control sk-hidden--visually\" id=\"sk-estimator-id-1\" type=\"checkbox\" checked><label for=\"sk-estimator-id-1\" class=\"sk-toggleable__label sk-toggleable__label-arrow\">SVR</label><div class=\"sk-toggleable__content\"><pre>SVR()</pre></div></div></div></div></div>"
      ],
      "text/plain": [
       "SVR()"
      ]
     },
     "execution_count": 16,
     "metadata": {},
     "output_type": "execute_result"
    }
   ],
   "source": [
    "# Fit the model\n",
    "\n",
    "model_lr.fit(processed_train_x, train_y)\n",
    "model_rf.fit(processed_train_x, train_y)\n",
    "model_sv.fit(processed_train_x, train_y)"
   ]
  },
  {
   "cell_type": "code",
   "execution_count": 17,
   "id": "d1ee2d87",
   "metadata": {},
   "outputs": [],
   "source": [
    "# Make predictions on test data\n",
    "\n",
    "pred_lr = model_lr.predict(processed_test_x)\n",
    "pred_rf = model_rf.predict(processed_test_x)\n",
    "pred_sv = model_sv.predict(processed_test_x)"
   ]
  },
  {
   "cell_type": "markdown",
   "id": "9052275d",
   "metadata": {},
   "source": [
    "# Model Evaluation"
   ]
  },
  {
   "cell_type": "code",
   "execution_count": 18,
   "id": "75394e34",
   "metadata": {},
   "outputs": [
    {
     "name": "stdout",
     "output_type": "stream",
     "text": [
      "1. Linear Regression:\n",
      "    mean_squared_error: 87.9133374841385\n",
      "    explained_variance_score: 0.7010472960837949\n",
      "\n",
      "2. Random Forest:\n",
      "    mean_squared_error: 25.006845830732853\n",
      "    explained_variance_score: 0.9156866038466035\n",
      "\n",
      "3. Support Vector:\n",
      "    mean_squared_error: 98.35380608020886\n",
      "    explained_variance_score: 0.6697118240822098\n",
      "\n"
     ]
    }
   ],
   "source": [
    "print(f\"1. Linear Regression:\\n    mean_squared_error: {mean_squared_error(test_y, pred_lr)}\\n    explained_variance_score: {explained_variance_score(test_y, pred_lr)}\\n\")\n",
    "\n",
    "print(f\"2. Random Forest:\\n    mean_squared_error: {mean_squared_error(test_y, pred_rf)}\\n    explained_variance_score: {explained_variance_score(test_y, pred_rf)}\\n\")\n",
    "\n",
    "print(f\"3. Support Vector:\\n    mean_squared_error: {mean_squared_error(test_y, pred_sv)}\\n    explained_variance_score: {explained_variance_score(test_y, pred_sv)}\\n\")"
   ]
  }
 ],
 "metadata": {
  "kernelspec": {
   "display_name": "Python 3 (ipykernel)",
   "language": "python",
   "name": "python3"
  },
  "language_info": {
   "codemirror_mode": {
    "name": "ipython",
    "version": 3
   },
   "file_extension": ".py",
   "mimetype": "text/x-python",
   "name": "python",
   "nbconvert_exporter": "python",
   "pygments_lexer": "ipython3",
   "version": "3.9.12"
  }
 },
 "nbformat": 4,
 "nbformat_minor": 5
}
