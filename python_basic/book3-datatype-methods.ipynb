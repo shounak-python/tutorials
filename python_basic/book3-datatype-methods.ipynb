{
 "cells": [
  {
   "cell_type": "markdown",
   "id": "9b00afa8",
   "metadata": {},
   "source": [
    "# Methods are called upon objects by using period/dot at the end of the object, followed by the name of the method and ending with round brackets \"( )\""
   ]
  },
  {
   "cell_type": "markdown",
   "id": "d67601de",
   "metadata": {},
   "source": [
    "1. String\n",
    "2. Integer\n",
    "3. Float\n",
    "4. Boolean\n",
    "5. List\n",
    "6. Tuple\n",
    "7. Set\n",
    "8. Dictionary"
   ]
  },
  {
   "cell_type": "code",
   "execution_count": null,
   "id": "b543c08f",
   "metadata": {},
   "outputs": [],
   "source": []
  },
  {
   "cell_type": "code",
   "execution_count": null,
   "id": "ffbe1a2b",
   "metadata": {},
   "outputs": [],
   "source": []
  },
  {
   "cell_type": "markdown",
   "id": "3900b0a2",
   "metadata": {},
   "source": [
    "# 1. String\n",
    "\n",
    "### Examples:\n",
    "\n",
    "`str_var1 = \"today is not a leap day. I have red PS4 controller.\"`\n",
    "\n",
    "* capitalize: Make the first letter capital.<br>\n",
    "`print(str_var1.capitalize())`\n",
    "\n",
    "<br>\n",
    "\n",
    "* casefold: case non-sensitive text<br>\n",
    "`print(str_var1.casefold())`\n",
    "\n",
    "<br>\n",
    "\n",
    "* count: Get the count of a specific text/string in the given string object<br>\n",
    "`print(str_var1.count(\"day\"))`\n",
    "\n",
    "<br>\n",
    "\n",
    "* upper: Make all letters uppercase<br>\n",
    "`print(str_var1.upper())`\n",
    "\n",
    "<br>\n",
    "\n",
    "* lower: Make all letters lowercase<br>\n",
    "`print(str_var1.lower())`\n",
    "\n",
    "<br>\n",
    "\n",
    "* Check if text is upper case or lower case using isupper() and islower()<br>\n",
    "`print(str_var1.isupper())`<br>\n",
    "`print(str_var1.islower())`\n",
    "\n",
    "<br>\n",
    "\n",
    "* Check if text is alphabetical, numeric or alphanumeric<br>\n",
    "`print(str_var1.isalpha())`<br>\n",
    "`print(str_var1.isnumeric())`<br>\n",
    "`print(str_var1.isalnum())`"
   ]
  },
  {
   "cell_type": "markdown",
   "id": "029b2cbf",
   "metadata": {},
   "source": [
    "# 2. Integer\n",
    "\n",
    "### Examples:\n",
    "\n",
    "* Find the real value of the number\n",
    "<br>For integer `a=55` <br>\n",
    "`a.real`\n",
    "\n",
    "<br>\n",
    "\n",
    "\n",
    "* Find ratio of float in form of integer fraction\n",
    "<br>For fraction `a = 55.55` <br>\n",
    "`a.as_integer_ratio()`\n",
    "\n",
    "<br>\n",
    "\n",
    "\n",
    "* Find bit length of integer\n",
    "<br>For integer `a=55` <br>\n",
    "`a.bit_length()`"
   ]
  },
  {
   "cell_type": "code",
   "execution_count": null,
   "id": "31faf9b8",
   "metadata": {},
   "outputs": [],
   "source": [
    "# 3. Float\n",
    "\n",
    "### Examples:"
   ]
  },
  {
   "cell_type": "code",
   "execution_count": null,
   "id": "e9dedd66",
   "metadata": {},
   "outputs": [],
   "source": []
  }
 ],
 "metadata": {
  "kernelspec": {
   "display_name": "Python 3 (ipykernel)",
   "language": "python",
   "name": "python3"
  },
  "language_info": {
   "codemirror_mode": {
    "name": "ipython",
    "version": 3
   },
   "file_extension": ".py",
   "mimetype": "text/x-python",
   "name": "python",
   "nbconvert_exporter": "python",
   "pygments_lexer": "ipython3",
   "version": "3.9.12"
  }
 },
 "nbformat": 4,
 "nbformat_minor": 5
}
