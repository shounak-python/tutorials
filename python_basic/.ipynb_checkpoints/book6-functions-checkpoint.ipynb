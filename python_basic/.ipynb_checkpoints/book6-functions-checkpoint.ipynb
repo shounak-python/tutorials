{
 "cells": [
  {
   "cell_type": "markdown",
   "id": "89c7156c",
   "metadata": {},
   "source": [
    "# What is a FUNCTION?\n",
    "\n",
    "#### * A function is sequence of code which gets executed whenever it is called.\n",
    "#### * A function may or may not contain arguments."
   ]
  },
  {
   "cell_type": "markdown",
   "id": "9de68394",
   "metadata": {},
   "source": [
    "---"
   ]
  },
  {
   "cell_type": "markdown",
   "id": "6fd44e6a",
   "metadata": {},
   "source": [
    "### Format of Function\n",
    "\n",
    "A function consists of:\n",
    "1. def\n",
    "2. name_of_function\n",
    "3. round brackets\n",
    "4. arguments (optional)\n",
    "5. code-block with indentation\n",
    "6. return object (optional)\n",
    "\n",
    "<br><br>\n",
    "\n",
    "Format:\n",
    "<pre>\n",
    "def function_name_abc(arg_1, arg_2):\n",
    "    addition = arg_1 + arg_2\n",
    "    result = addition - 5\n",
    "    return addition</pre>\n",
    "    \n",
    "Here, we start writing the function with `def` followed by the name of function, which is `function_name_abc`.\n",
    "\n"
   ]
  },
  {
   "cell_type": "code",
   "execution_count": 1,
   "id": "82e99692",
   "metadata": {},
   "outputs": [],
   "source": [
    "# Example 1: Function without arguments\n"
   ]
  },
  {
   "cell_type": "code",
   "execution_count": null,
   "id": "794ba7b2",
   "metadata": {},
   "outputs": [],
   "source": []
  },
  {
   "cell_type": "code",
   "execution_count": null,
   "id": "7f6d0b53",
   "metadata": {},
   "outputs": [],
   "source": [
    "# Example 2: Function with arguments"
   ]
  },
  {
   "cell_type": "code",
   "execution_count": null,
   "id": "bf6ad233",
   "metadata": {},
   "outputs": [],
   "source": []
  },
  {
   "cell_type": "code",
   "execution_count": null,
   "id": "9bb1b58a",
   "metadata": {},
   "outputs": [],
   "source": []
  },
  {
   "cell_type": "code",
   "execution_count": null,
   "id": "b630b33f",
   "metadata": {},
   "outputs": [],
   "source": []
  },
  {
   "cell_type": "markdown",
   "id": "ca6ed233",
   "metadata": {},
   "source": [
    "---"
   ]
  },
  {
   "cell_type": "markdown",
   "id": "bb9761c1",
   "metadata": {},
   "source": [
    "END of the Notebook<br>\n",
    "Author: Shounak Deshpande (shounak.python@gmail.com)<br>\n",
    "Youtube: https://www.youtube.com/channel/UCpODmuqv_ljQ_vMYwO71a_g"
   ]
  }
 ],
 "metadata": {
  "kernelspec": {
   "display_name": "Python 3 (ipykernel)",
   "language": "python",
   "name": "python3"
  },
  "language_info": {
   "codemirror_mode": {
    "name": "ipython",
    "version": 3
   },
   "file_extension": ".py",
   "mimetype": "text/x-python",
   "name": "python",
   "nbconvert_exporter": "python",
   "pygments_lexer": "ipython3",
   "version": "3.9.12"
  }
 },
 "nbformat": 4,
 "nbformat_minor": 5
}
